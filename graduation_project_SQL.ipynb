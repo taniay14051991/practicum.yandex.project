{
 "cells": [
  {
   "cell_type": "markdown",
   "metadata": {},
   "source": [
    "# SQL ПРоверка данных  читательского сервиса\n",
    "\n",
    "**Легенда**\n",
    "\n",
    "Коронавирус застал мир врасплох, изменив привычный порядок вещей. В свободное время жители городов больше не выходят на улицу, не посещают кафе и торговые центры. Зато стало больше времени для книг. Это заметили стартаперы — и бросились создавать приложения для тех, кто любит читать.\n",
    "\n",
    "Наша компания решила быть на волне и купила крупный сервис для чтения книг по подписке. Наша первая задача как аналитика — проанализировать базу данных.\n",
    "В ней — информация о книгах, издательствах, авторах, а также пользовательские обзоры книг. Эти данные помогут сформулировать ценностное предложение для нового продукта.\n",
    "\n",
    "**Описание данных**\n",
    "\n",
    "*Таблица `books`*\n",
    "\n",
    "Содержит данные о книгах:\n",
    "\n",
    "- `book_id` — идентификатор книги;\n",
    "- `author_id` — идентификатор автора;\n",
    "- `title` — название книги;\n",
    "- `num_pages` — количество страниц;\n",
    "- `publication_date` — дата публикации книги;\n",
    "- `publisher_id` — идентификатор издателя.\n",
    "\n",
    "*Таблица `authors`*\n",
    "\n",
    "Содержит данные об авторах:\n",
    "\n",
    "- `author_id` — идентификатор автора;\n",
    "- `author` — имя автора.\n",
    "\n",
    "*Таблица `publishers`*\n",
    "\n",
    "Содержит данные об издательствах:\n",
    "\n",
    "- `publisher_id` — идентификатор издательства;\n",
    "- `publisher` — название издательства;\n",
    "\n",
    "*Таблица `ratings`*\n",
    "\n",
    "Содержит данные о пользовательских оценках книг:\n",
    "\n",
    "- `rating_id` — идентификатор оценки;\n",
    "- `book_id` — идентификатор книги;\n",
    "- `username` — имя пользователя, оставившего оценку;\n",
    "- `rating` — оценка книги.\n",
    "\n",
    "*Таблица `reviews`*\n",
    "\n",
    "Содержит данные о пользовательских обзорах на книги:\n",
    "\n",
    "- `review_id` — идентификатор обзора;\n",
    "- `book_id` — идентификатор книги;\n",
    "- `username` — имя пользователя, написавшего обзор;\n",
    "- `text` — текст обзора.\n",
    "\n",
    "\n",
    "**Задачи:**\n",
    "\n",
    "- Посчитать, сколько книг вышло после 1 января 2000 года;\n",
    "- Для каждой книги посчитать количество обзоров и среднюю оценку;\n",
    "- Определить издательство, которое выпустило наибольшее число книг толще 50 страниц — так получиться исключить из анализа брошюры;\n",
    "- Определить автора с самой высокой средней оценкой книг — учитывать только книги с 50 и более оценками;\n",
    "- Посчитайть среднее количество обзоров от пользователей, которые поставили больше 50 оценок.\n",
    "\n",
    "\n",
    "**Загрузка библиотек**"
   ]
  },
  {
   "cell_type": "code",
   "execution_count": 1,
   "metadata": {},
   "outputs": [],
   "source": [
    "import pandas as pd\n",
    "import seaborn as sns\n",
    "import warnings\n",
    "import numpy as np\n",
    "from sqlalchemy import create_engine \n",
    "\n",
    "sns.set_style('darkgrid')\n",
    "warnings.filterwarnings(\"ignore\")\n",
    "pd.set_option('chained_assignment', None)\n",
    "np.random.seed(42)"
   ]
  },
  {
   "cell_type": "markdown",
   "metadata": {},
   "source": [
    "**Oглавление:**\n",
    "<a id=\"Contents\"></a> \n",
    "\n",
    "1. Подключение к БД\n",
    "2. [Знакомство с данными](#Start)\n",
    "3. [Анализ данных](#Analysis)\n",
    "4. [Итоги](#Presentation) \n",
    "\n",
    "## Подключение к БД"
   ]
  },
  {
   "cell_type": "code",
   "execution_count": 2,
   "metadata": {},
   "outputs": [],
   "source": [
    "db_config = {'user': 'praktikum_student', \n",
    "            'pwd': 'Sdf4$2;d-d30pp', \n",
    "            'host': 'rc1b-wcoijxj3yxfsf3fs.mdb.yandexcloud.net',\n",
    "            'port': 6432, \n",
    "            'db': 'data-analyst-final-project-db'} \n",
    "\n",
    "\n",
    "connection_string = 'postgresql://{}:{}@{}:{}/{}'.format(db_config['user'],\n",
    "                                                db_config['pwd'],\n",
    "                                                db_config['host'],\n",
    "                                                db_config['port'],\n",
    "                                                db_config['db'])\n",
    "\n",
    "engine = create_engine(connection_string) \n",
    "\n",
    "\n",
    "def select_sql(sql):\n",
    "    \"\"\"вспомогательная функция для запросов\"\"\"\n",
    "    return pd.io.sql.read_sql(sql, con = engine)"
   ]
  },
  {
   "cell_type": "markdown",
   "metadata": {},
   "source": [
    "## Знакомство с данными\n",
    "<a id=\"Start\"></a> \n",
    "\n",
    "**Задачи:**\n",
    " - [x] Загрузить данные.\n",
    " - [x] Изучить общую информацию о датасетах.\n",
    "\n",
    "### Таблица книги"
   ]
  },
  {
   "cell_type": "code",
   "execution_count": 3,
   "metadata": {},
   "outputs": [
    {
     "data": {
      "text/html": [
       "<div>\n",
       "<style scoped>\n",
       "    .dataframe tbody tr th:only-of-type {\n",
       "        vertical-align: middle;\n",
       "    }\n",
       "\n",
       "    .dataframe tbody tr th {\n",
       "        vertical-align: top;\n",
       "    }\n",
       "\n",
       "    .dataframe thead th {\n",
       "        text-align: right;\n",
       "    }\n",
       "</style>\n",
       "<table border=\"1\" class=\"dataframe\">\n",
       "  <thead>\n",
       "    <tr style=\"text-align: right;\">\n",
       "      <th></th>\n",
       "      <th>book_id</th>\n",
       "      <th>author_id</th>\n",
       "      <th>title</th>\n",
       "      <th>num_pages</th>\n",
       "      <th>publication_date</th>\n",
       "      <th>publisher_id</th>\n",
       "    </tr>\n",
       "  </thead>\n",
       "  <tbody>\n",
       "    <tr>\n",
       "      <th>0</th>\n",
       "      <td>1</td>\n",
       "      <td>546</td>\n",
       "      <td>'Salem's Lot</td>\n",
       "      <td>594</td>\n",
       "      <td>2005-11-01</td>\n",
       "      <td>93</td>\n",
       "    </tr>\n",
       "    <tr>\n",
       "      <th>1</th>\n",
       "      <td>2</td>\n",
       "      <td>465</td>\n",
       "      <td>1 000 Places to See Before You Die</td>\n",
       "      <td>992</td>\n",
       "      <td>2003-05-22</td>\n",
       "      <td>336</td>\n",
       "    </tr>\n",
       "    <tr>\n",
       "      <th>2</th>\n",
       "      <td>3</td>\n",
       "      <td>407</td>\n",
       "      <td>13 Little Blue Envelopes (Little Blue Envelope...</td>\n",
       "      <td>322</td>\n",
       "      <td>2010-12-21</td>\n",
       "      <td>135</td>\n",
       "    </tr>\n",
       "    <tr>\n",
       "      <th>3</th>\n",
       "      <td>4</td>\n",
       "      <td>82</td>\n",
       "      <td>1491: New Revelations of the Americas Before C...</td>\n",
       "      <td>541</td>\n",
       "      <td>2006-10-10</td>\n",
       "      <td>309</td>\n",
       "    </tr>\n",
       "    <tr>\n",
       "      <th>4</th>\n",
       "      <td>5</td>\n",
       "      <td>125</td>\n",
       "      <td>1776</td>\n",
       "      <td>386</td>\n",
       "      <td>2006-07-04</td>\n",
       "      <td>268</td>\n",
       "    </tr>\n",
       "    <tr>\n",
       "      <th>5</th>\n",
       "      <td>6</td>\n",
       "      <td>257</td>\n",
       "      <td>1st to Die (Women's Murder Club  #1)</td>\n",
       "      <td>424</td>\n",
       "      <td>2005-05-20</td>\n",
       "      <td>116</td>\n",
       "    </tr>\n",
       "    <tr>\n",
       "      <th>6</th>\n",
       "      <td>7</td>\n",
       "      <td>258</td>\n",
       "      <td>2nd Chance (Women's Murder Club  #2)</td>\n",
       "      <td>400</td>\n",
       "      <td>2005-05-20</td>\n",
       "      <td>116</td>\n",
       "    </tr>\n",
       "    <tr>\n",
       "      <th>7</th>\n",
       "      <td>8</td>\n",
       "      <td>260</td>\n",
       "      <td>4th of July (Women's Murder Club  #4)</td>\n",
       "      <td>448</td>\n",
       "      <td>2006-06-01</td>\n",
       "      <td>318</td>\n",
       "    </tr>\n",
       "    <tr>\n",
       "      <th>8</th>\n",
       "      <td>9</td>\n",
       "      <td>563</td>\n",
       "      <td>A Beautiful Mind</td>\n",
       "      <td>461</td>\n",
       "      <td>2002-02-04</td>\n",
       "      <td>104</td>\n",
       "    </tr>\n",
       "    <tr>\n",
       "      <th>9</th>\n",
       "      <td>10</td>\n",
       "      <td>445</td>\n",
       "      <td>A Bend in the Road</td>\n",
       "      <td>341</td>\n",
       "      <td>2005-04-01</td>\n",
       "      <td>116</td>\n",
       "    </tr>\n",
       "  </tbody>\n",
       "</table>\n",
       "</div>"
      ],
      "text/plain": [
       "   book_id  author_id                                              title  \\\n",
       "0        1        546                                       'Salem's Lot   \n",
       "1        2        465                 1 000 Places to See Before You Die   \n",
       "2        3        407  13 Little Blue Envelopes (Little Blue Envelope...   \n",
       "3        4         82  1491: New Revelations of the Americas Before C...   \n",
       "4        5        125                                               1776   \n",
       "5        6        257               1st to Die (Women's Murder Club  #1)   \n",
       "6        7        258               2nd Chance (Women's Murder Club  #2)   \n",
       "7        8        260              4th of July (Women's Murder Club  #4)   \n",
       "8        9        563                                   A Beautiful Mind   \n",
       "9       10        445                                 A Bend in the Road   \n",
       "\n",
       "   num_pages publication_date  publisher_id  \n",
       "0        594       2005-11-01            93  \n",
       "1        992       2003-05-22           336  \n",
       "2        322       2010-12-21           135  \n",
       "3        541       2006-10-10           309  \n",
       "4        386       2006-07-04           268  \n",
       "5        424       2005-05-20           116  \n",
       "6        400       2005-05-20           116  \n",
       "7        448       2006-06-01           318  \n",
       "8        461       2002-02-04           104  \n",
       "9        341       2005-04-01           116  "
      ]
     },
     "execution_count": 3,
     "metadata": {},
     "output_type": "execute_result"
    }
   ],
   "source": [
    "sql = '''SELECT *\n",
    "FROM   books t\n",
    "LIMIT  10 '''\n",
    "\n",
    "select_sql(sql)"
   ]
  },
  {
   "cell_type": "markdown",
   "metadata": {},
   "source": [
    "### Таблица авторы"
   ]
  },
  {
   "cell_type": "code",
   "execution_count": 4,
   "metadata": {},
   "outputs": [
    {
     "data": {
      "text/html": [
       "<div>\n",
       "<style scoped>\n",
       "    .dataframe tbody tr th:only-of-type {\n",
       "        vertical-align: middle;\n",
       "    }\n",
       "\n",
       "    .dataframe tbody tr th {\n",
       "        vertical-align: top;\n",
       "    }\n",
       "\n",
       "    .dataframe thead th {\n",
       "        text-align: right;\n",
       "    }\n",
       "</style>\n",
       "<table border=\"1\" class=\"dataframe\">\n",
       "  <thead>\n",
       "    <tr style=\"text-align: right;\">\n",
       "      <th></th>\n",
       "      <th>author_id</th>\n",
       "      <th>author</th>\n",
       "    </tr>\n",
       "  </thead>\n",
       "  <tbody>\n",
       "    <tr>\n",
       "      <th>0</th>\n",
       "      <td>1</td>\n",
       "      <td>A.S. Byatt</td>\n",
       "    </tr>\n",
       "    <tr>\n",
       "      <th>1</th>\n",
       "      <td>2</td>\n",
       "      <td>Aesop/Laura Harris/Laura Gibbs</td>\n",
       "    </tr>\n",
       "    <tr>\n",
       "      <th>2</th>\n",
       "      <td>3</td>\n",
       "      <td>Agatha Christie</td>\n",
       "    </tr>\n",
       "    <tr>\n",
       "      <th>3</th>\n",
       "      <td>4</td>\n",
       "      <td>Alan Brennert</td>\n",
       "    </tr>\n",
       "    <tr>\n",
       "      <th>4</th>\n",
       "      <td>5</td>\n",
       "      <td>Alan Moore/David   Lloyd</td>\n",
       "    </tr>\n",
       "    <tr>\n",
       "      <th>5</th>\n",
       "      <td>6</td>\n",
       "      <td>Alan Paton</td>\n",
       "    </tr>\n",
       "    <tr>\n",
       "      <th>6</th>\n",
       "      <td>7</td>\n",
       "      <td>Albert Camus/Justin O'Brien</td>\n",
       "    </tr>\n",
       "    <tr>\n",
       "      <th>7</th>\n",
       "      <td>8</td>\n",
       "      <td>Aldous Huxley</td>\n",
       "    </tr>\n",
       "    <tr>\n",
       "      <th>8</th>\n",
       "      <td>9</td>\n",
       "      <td>Aldous Huxley/Christopher Hitchens</td>\n",
       "    </tr>\n",
       "    <tr>\n",
       "      <th>9</th>\n",
       "      <td>10</td>\n",
       "      <td>Aleksandr Solzhenitsyn/H.T. Willetts</td>\n",
       "    </tr>\n",
       "  </tbody>\n",
       "</table>\n",
       "</div>"
      ],
      "text/plain": [
       "   author_id                                author\n",
       "0          1                            A.S. Byatt\n",
       "1          2        Aesop/Laura Harris/Laura Gibbs\n",
       "2          3                       Agatha Christie\n",
       "3          4                         Alan Brennert\n",
       "4          5              Alan Moore/David   Lloyd\n",
       "5          6                            Alan Paton\n",
       "6          7           Albert Camus/Justin O'Brien\n",
       "7          8                         Aldous Huxley\n",
       "8          9    Aldous Huxley/Christopher Hitchens\n",
       "9         10  Aleksandr Solzhenitsyn/H.T. Willetts"
      ]
     },
     "execution_count": 4,
     "metadata": {},
     "output_type": "execute_result"
    }
   ],
   "source": [
    "sql = '''SELECT *\n",
    "FROM   authors t\n",
    "LIMIT  10 '''\n",
    "\n",
    "select_sql(sql)"
   ]
  },
  {
   "cell_type": "markdown",
   "metadata": {},
   "source": [
    "### Таблица издатели"
   ]
  },
  {
   "cell_type": "code",
   "execution_count": 5,
   "metadata": {},
   "outputs": [
    {
     "data": {
      "text/html": [
       "<div>\n",
       "<style scoped>\n",
       "    .dataframe tbody tr th:only-of-type {\n",
       "        vertical-align: middle;\n",
       "    }\n",
       "\n",
       "    .dataframe tbody tr th {\n",
       "        vertical-align: top;\n",
       "    }\n",
       "\n",
       "    .dataframe thead th {\n",
       "        text-align: right;\n",
       "    }\n",
       "</style>\n",
       "<table border=\"1\" class=\"dataframe\">\n",
       "  <thead>\n",
       "    <tr style=\"text-align: right;\">\n",
       "      <th></th>\n",
       "      <th>publisher_id</th>\n",
       "      <th>publisher</th>\n",
       "    </tr>\n",
       "  </thead>\n",
       "  <tbody>\n",
       "    <tr>\n",
       "      <th>0</th>\n",
       "      <td>1</td>\n",
       "      <td>Ace</td>\n",
       "    </tr>\n",
       "    <tr>\n",
       "      <th>1</th>\n",
       "      <td>2</td>\n",
       "      <td>Ace Book</td>\n",
       "    </tr>\n",
       "    <tr>\n",
       "      <th>2</th>\n",
       "      <td>3</td>\n",
       "      <td>Ace Books</td>\n",
       "    </tr>\n",
       "    <tr>\n",
       "      <th>3</th>\n",
       "      <td>4</td>\n",
       "      <td>Ace Hardcover</td>\n",
       "    </tr>\n",
       "    <tr>\n",
       "      <th>4</th>\n",
       "      <td>5</td>\n",
       "      <td>Addison Wesley Publishing Company</td>\n",
       "    </tr>\n",
       "    <tr>\n",
       "      <th>5</th>\n",
       "      <td>6</td>\n",
       "      <td>Aladdin</td>\n",
       "    </tr>\n",
       "    <tr>\n",
       "      <th>6</th>\n",
       "      <td>7</td>\n",
       "      <td>Aladdin Paperbacks</td>\n",
       "    </tr>\n",
       "    <tr>\n",
       "      <th>7</th>\n",
       "      <td>8</td>\n",
       "      <td>Albin Michel</td>\n",
       "    </tr>\n",
       "    <tr>\n",
       "      <th>8</th>\n",
       "      <td>9</td>\n",
       "      <td>Alfred A. Knopf</td>\n",
       "    </tr>\n",
       "    <tr>\n",
       "      <th>9</th>\n",
       "      <td>10</td>\n",
       "      <td>Alfred A. Knopf Books for Young Readers</td>\n",
       "    </tr>\n",
       "  </tbody>\n",
       "</table>\n",
       "</div>"
      ],
      "text/plain": [
       "   publisher_id                                publisher\n",
       "0             1                                      Ace\n",
       "1             2                                 Ace Book\n",
       "2             3                                Ace Books\n",
       "3             4                            Ace Hardcover\n",
       "4             5        Addison Wesley Publishing Company\n",
       "5             6                                  Aladdin\n",
       "6             7                       Aladdin Paperbacks\n",
       "7             8                             Albin Michel\n",
       "8             9                          Alfred A. Knopf\n",
       "9            10  Alfred A. Knopf Books for Young Readers"
      ]
     },
     "execution_count": 5,
     "metadata": {},
     "output_type": "execute_result"
    }
   ],
   "source": [
    "sql = '''SELECT *\n",
    "FROM   publishers t\n",
    "LIMIT  10 '''\n",
    "\n",
    "select_sql(sql)"
   ]
  },
  {
   "cell_type": "markdown",
   "metadata": {},
   "source": [
    "### Таблица рейтинги"
   ]
  },
  {
   "cell_type": "code",
   "execution_count": 6,
   "metadata": {},
   "outputs": [
    {
     "data": {
      "text/html": [
       "<div>\n",
       "<style scoped>\n",
       "    .dataframe tbody tr th:only-of-type {\n",
       "        vertical-align: middle;\n",
       "    }\n",
       "\n",
       "    .dataframe tbody tr th {\n",
       "        vertical-align: top;\n",
       "    }\n",
       "\n",
       "    .dataframe thead th {\n",
       "        text-align: right;\n",
       "    }\n",
       "</style>\n",
       "<table border=\"1\" class=\"dataframe\">\n",
       "  <thead>\n",
       "    <tr style=\"text-align: right;\">\n",
       "      <th></th>\n",
       "      <th>rating_id</th>\n",
       "      <th>book_id</th>\n",
       "      <th>username</th>\n",
       "      <th>rating</th>\n",
       "    </tr>\n",
       "  </thead>\n",
       "  <tbody>\n",
       "    <tr>\n",
       "      <th>0</th>\n",
       "      <td>1</td>\n",
       "      <td>1</td>\n",
       "      <td>ryanfranco</td>\n",
       "      <td>4</td>\n",
       "    </tr>\n",
       "    <tr>\n",
       "      <th>1</th>\n",
       "      <td>2</td>\n",
       "      <td>1</td>\n",
       "      <td>grantpatricia</td>\n",
       "      <td>2</td>\n",
       "    </tr>\n",
       "    <tr>\n",
       "      <th>2</th>\n",
       "      <td>3</td>\n",
       "      <td>1</td>\n",
       "      <td>brandtandrea</td>\n",
       "      <td>5</td>\n",
       "    </tr>\n",
       "    <tr>\n",
       "      <th>3</th>\n",
       "      <td>4</td>\n",
       "      <td>2</td>\n",
       "      <td>lorichen</td>\n",
       "      <td>3</td>\n",
       "    </tr>\n",
       "    <tr>\n",
       "      <th>4</th>\n",
       "      <td>5</td>\n",
       "      <td>2</td>\n",
       "      <td>mariokeller</td>\n",
       "      <td>2</td>\n",
       "    </tr>\n",
       "    <tr>\n",
       "      <th>5</th>\n",
       "      <td>6</td>\n",
       "      <td>3</td>\n",
       "      <td>johnsonamanda</td>\n",
       "      <td>4</td>\n",
       "    </tr>\n",
       "    <tr>\n",
       "      <th>6</th>\n",
       "      <td>7</td>\n",
       "      <td>3</td>\n",
       "      <td>scotttamara</td>\n",
       "      <td>5</td>\n",
       "    </tr>\n",
       "    <tr>\n",
       "      <th>7</th>\n",
       "      <td>8</td>\n",
       "      <td>3</td>\n",
       "      <td>lesliegibbs</td>\n",
       "      <td>5</td>\n",
       "    </tr>\n",
       "    <tr>\n",
       "      <th>8</th>\n",
       "      <td>9</td>\n",
       "      <td>4</td>\n",
       "      <td>abbottjames</td>\n",
       "      <td>5</td>\n",
       "    </tr>\n",
       "    <tr>\n",
       "      <th>9</th>\n",
       "      <td>10</td>\n",
       "      <td>4</td>\n",
       "      <td>valenciaanne</td>\n",
       "      <td>4</td>\n",
       "    </tr>\n",
       "  </tbody>\n",
       "</table>\n",
       "</div>"
      ],
      "text/plain": [
       "   rating_id  book_id       username  rating\n",
       "0          1        1     ryanfranco       4\n",
       "1          2        1  grantpatricia       2\n",
       "2          3        1   brandtandrea       5\n",
       "3          4        2       lorichen       3\n",
       "4          5        2    mariokeller       2\n",
       "5          6        3  johnsonamanda       4\n",
       "6          7        3    scotttamara       5\n",
       "7          8        3    lesliegibbs       5\n",
       "8          9        4    abbottjames       5\n",
       "9         10        4   valenciaanne       4"
      ]
     },
     "execution_count": 6,
     "metadata": {},
     "output_type": "execute_result"
    }
   ],
   "source": [
    "sql = '''SELECT *\n",
    "FROM   ratings t\n",
    "LIMIT  10 '''\n",
    "\n",
    "select_sql(sql)"
   ]
  },
  {
   "cell_type": "markdown",
   "metadata": {},
   "source": [
    "### Таблица обзоры"
   ]
  },
  {
   "cell_type": "code",
   "execution_count": 7,
   "metadata": {},
   "outputs": [
    {
     "data": {
      "text/html": [
       "<div>\n",
       "<style scoped>\n",
       "    .dataframe tbody tr th:only-of-type {\n",
       "        vertical-align: middle;\n",
       "    }\n",
       "\n",
       "    .dataframe tbody tr th {\n",
       "        vertical-align: top;\n",
       "    }\n",
       "\n",
       "    .dataframe thead th {\n",
       "        text-align: right;\n",
       "    }\n",
       "</style>\n",
       "<table border=\"1\" class=\"dataframe\">\n",
       "  <thead>\n",
       "    <tr style=\"text-align: right;\">\n",
       "      <th></th>\n",
       "      <th>review_id</th>\n",
       "      <th>book_id</th>\n",
       "      <th>username</th>\n",
       "      <th>text</th>\n",
       "    </tr>\n",
       "  </thead>\n",
       "  <tbody>\n",
       "    <tr>\n",
       "      <th>0</th>\n",
       "      <td>1</td>\n",
       "      <td>1</td>\n",
       "      <td>brandtandrea</td>\n",
       "      <td>Mention society tell send professor analysis. ...</td>\n",
       "    </tr>\n",
       "    <tr>\n",
       "      <th>1</th>\n",
       "      <td>2</td>\n",
       "      <td>1</td>\n",
       "      <td>ryanfranco</td>\n",
       "      <td>Foot glass pretty audience hit themselves. Amo...</td>\n",
       "    </tr>\n",
       "    <tr>\n",
       "      <th>2</th>\n",
       "      <td>3</td>\n",
       "      <td>2</td>\n",
       "      <td>lorichen</td>\n",
       "      <td>Listen treat keep worry. Miss husband tax but ...</td>\n",
       "    </tr>\n",
       "    <tr>\n",
       "      <th>3</th>\n",
       "      <td>4</td>\n",
       "      <td>3</td>\n",
       "      <td>johnsonamanda</td>\n",
       "      <td>Finally month interesting blue could nature cu...</td>\n",
       "    </tr>\n",
       "    <tr>\n",
       "      <th>4</th>\n",
       "      <td>5</td>\n",
       "      <td>3</td>\n",
       "      <td>scotttamara</td>\n",
       "      <td>Nation purpose heavy give wait song will. List...</td>\n",
       "    </tr>\n",
       "    <tr>\n",
       "      <th>5</th>\n",
       "      <td>6</td>\n",
       "      <td>3</td>\n",
       "      <td>lesliegibbs</td>\n",
       "      <td>Analysis no several cause international.</td>\n",
       "    </tr>\n",
       "    <tr>\n",
       "      <th>6</th>\n",
       "      <td>7</td>\n",
       "      <td>4</td>\n",
       "      <td>valenciaanne</td>\n",
       "      <td>One there cost another. Say type save. With pe...</td>\n",
       "    </tr>\n",
       "    <tr>\n",
       "      <th>7</th>\n",
       "      <td>8</td>\n",
       "      <td>4</td>\n",
       "      <td>abbottjames</td>\n",
       "      <td>Within enough mother. There at system full rec...</td>\n",
       "    </tr>\n",
       "    <tr>\n",
       "      <th>8</th>\n",
       "      <td>9</td>\n",
       "      <td>5</td>\n",
       "      <td>npowers</td>\n",
       "      <td>Thank now focus realize economy focus fly. Ite...</td>\n",
       "    </tr>\n",
       "    <tr>\n",
       "      <th>9</th>\n",
       "      <td>10</td>\n",
       "      <td>5</td>\n",
       "      <td>staylor</td>\n",
       "      <td>Game push lot reduce where remember. Including...</td>\n",
       "    </tr>\n",
       "  </tbody>\n",
       "</table>\n",
       "</div>"
      ],
      "text/plain": [
       "   review_id  book_id       username  \\\n",
       "0          1        1   brandtandrea   \n",
       "1          2        1     ryanfranco   \n",
       "2          3        2       lorichen   \n",
       "3          4        3  johnsonamanda   \n",
       "4          5        3    scotttamara   \n",
       "5          6        3    lesliegibbs   \n",
       "6          7        4   valenciaanne   \n",
       "7          8        4    abbottjames   \n",
       "8          9        5        npowers   \n",
       "9         10        5        staylor   \n",
       "\n",
       "                                                text  \n",
       "0  Mention society tell send professor analysis. ...  \n",
       "1  Foot glass pretty audience hit themselves. Amo...  \n",
       "2  Listen treat keep worry. Miss husband tax but ...  \n",
       "3  Finally month interesting blue could nature cu...  \n",
       "4  Nation purpose heavy give wait song will. List...  \n",
       "5           Analysis no several cause international.  \n",
       "6  One there cost another. Say type save. With pe...  \n",
       "7  Within enough mother. There at system full rec...  \n",
       "8  Thank now focus realize economy focus fly. Ite...  \n",
       "9  Game push lot reduce where remember. Including...  "
      ]
     },
     "execution_count": 7,
     "metadata": {},
     "output_type": "execute_result"
    }
   ],
   "source": [
    "sql = '''SELECT *\n",
    "FROM   reviews t\n",
    "LIMIT  10 '''\n",
    "\n",
    "select_sql(sql)"
   ]
  },
  {
   "cell_type": "code",
   "execution_count": 8,
   "metadata": {},
   "outputs": [
    {
     "data": {
      "text/html": [
       "<div>\n",
       "<style scoped>\n",
       "    .dataframe tbody tr th:only-of-type {\n",
       "        vertical-align: middle;\n",
       "    }\n",
       "\n",
       "    .dataframe tbody tr th {\n",
       "        vertical-align: top;\n",
       "    }\n",
       "\n",
       "    .dataframe thead th {\n",
       "        text-align: right;\n",
       "    }\n",
       "</style>\n",
       "<table border=\"1\" class=\"dataframe\">\n",
       "  <thead>\n",
       "    <tr style=\"text-align: right;\">\n",
       "      <th></th>\n",
       "      <th>review_id</th>\n",
       "      <th>book_id</th>\n",
       "      <th>username</th>\n",
       "      <th>text</th>\n",
       "      <th>table_size</th>\n",
       "    </tr>\n",
       "  </thead>\n",
       "  <tbody>\n",
       "    <tr>\n",
       "      <th>0</th>\n",
       "      <td>1</td>\n",
       "      <td>1</td>\n",
       "      <td>brandtandrea</td>\n",
       "      <td>Mention society tell send professor analysis. ...</td>\n",
       "      <td>2793</td>\n",
       "    </tr>\n",
       "  </tbody>\n",
       "</table>\n",
       "</div>"
      ],
      "text/plain": [
       "   review_id  book_id      username  \\\n",
       "0          1        1  brandtandrea   \n",
       "\n",
       "                                                text  table_size  \n",
       "0  Mention society tell send professor analysis. ...        2793  "
      ]
     },
     "execution_count": 8,
     "metadata": {},
     "output_type": "execute_result"
    }
   ],
   "source": [
    "# ячейка ревьюера: можно подсчитать количество строк сразу с использованием небольшой оконной функции:\n",
    "\n",
    "pd.io.sql.read_sql('''\n",
    "SELECT *,\n",
    "       COUNT(*) OVER() AS table_size\n",
    "FROM reviews \n",
    "LIMIT 1        \n",
    "'''\n",
    ", con = engine)"
   ]
  },
  {
   "cell_type": "markdown",
   "metadata": {},
   "source": [
    "**Вывод:**\n",
    "    \n",
    "    В БД хранится 5 таблиц с базовыми данными, визуально данные соответствуют заявленым, редактирование не требуется"
   ]
  },
  {
   "cell_type": "markdown",
   "metadata": {},
   "source": [
    "## Анализ данных\n",
    "\n",
    "<a id=\"Analysis\"></a> \n",
    "[к оглавлению](#Contents)\n",
    "    \n",
    "**Задачи:**\n",
    "\n",
    "- [x] Посчитать, сколько книг вышло после 1 января 2000 года;\n",
    "- [x] Для каждой книги посчитать количество обзоров и среднюю оценку;\n",
    "- [x] Определить издательство, которое выпустило наибольшее число книг толще 50 страниц — так получиться исключить из анализа брошюры;\n",
    "- [x] Определить автора с самой высокой средней оценкой книг — учитывать только книги с 50 и более оценками;\n",
    "- [x] Посчитайть среднее количество обзоров от пользователей, которые поставили больше 50 оценок.\n",
    "\n",
    "### Колличество книг, вышедших после 1.01.2000"
   ]
  },
  {
   "cell_type": "code",
   "execution_count": 9,
   "metadata": {},
   "outputs": [
    {
     "data": {
      "text/html": [
       "<div>\n",
       "<style scoped>\n",
       "    .dataframe tbody tr th:only-of-type {\n",
       "        vertical-align: middle;\n",
       "    }\n",
       "\n",
       "    .dataframe tbody tr th {\n",
       "        vertical-align: top;\n",
       "    }\n",
       "\n",
       "    .dataframe thead th {\n",
       "        text-align: right;\n",
       "    }\n",
       "</style>\n",
       "<table border=\"1\" class=\"dataframe\">\n",
       "  <thead>\n",
       "    <tr style=\"text-align: right;\">\n",
       "      <th></th>\n",
       "      <th>quantity</th>\n",
       "    </tr>\n",
       "  </thead>\n",
       "  <tbody>\n",
       "    <tr>\n",
       "      <th>0</th>\n",
       "      <td>819</td>\n",
       "    </tr>\n",
       "  </tbody>\n",
       "</table>\n",
       "</div>"
      ],
      "text/plain": [
       "   quantity\n",
       "0       819"
      ]
     },
     "execution_count": 9,
     "metadata": {},
     "output_type": "execute_result"
    }
   ],
   "source": [
    "sql = '''\n",
    "SELECT \n",
    "    COUNT(DISTINCT(book_id)) as quantity\n",
    "FROM \n",
    "    books t\n",
    "WHERE \n",
    "    t.publication_date > '2000-01-01'\n",
    "'''\n",
    "select_sql(sql)"
   ]
  },
  {
   "cell_type": "markdown",
   "metadata": {},
   "source": [
    "*Вывод:*\n",
    "После 1.01.2000 было выпущено 819 книг\n",
    "\n",
    "### Количество обзоров и средняя оценка для книг"
   ]
  },
  {
   "cell_type": "code",
   "execution_count": 10,
   "metadata": {},
   "outputs": [
    {
     "data": {
      "text/html": [
       "<div>\n",
       "<style scoped>\n",
       "    .dataframe tbody tr th:only-of-type {\n",
       "        vertical-align: middle;\n",
       "    }\n",
       "\n",
       "    .dataframe tbody tr th {\n",
       "        vertical-align: top;\n",
       "    }\n",
       "\n",
       "    .dataframe thead th {\n",
       "        text-align: right;\n",
       "    }\n",
       "</style>\n",
       "<table border=\"1\" class=\"dataframe\">\n",
       "  <thead>\n",
       "    <tr style=\"text-align: right;\">\n",
       "      <th></th>\n",
       "      <th>book_id</th>\n",
       "      <th>title</th>\n",
       "      <th>review_cnt</th>\n",
       "      <th>rating</th>\n",
       "    </tr>\n",
       "  </thead>\n",
       "  <tbody>\n",
       "    <tr>\n",
       "      <th>0</th>\n",
       "      <td>948</td>\n",
       "      <td>Twilight (Twilight  #1)</td>\n",
       "      <td>7</td>\n",
       "      <td>3.66250</td>\n",
       "    </tr>\n",
       "    <tr>\n",
       "      <th>1</th>\n",
       "      <td>854</td>\n",
       "      <td>The Road</td>\n",
       "      <td>6</td>\n",
       "      <td>3.77273</td>\n",
       "    </tr>\n",
       "    <tr>\n",
       "      <th>2</th>\n",
       "      <td>207</td>\n",
       "      <td>Eat  Pray  Love</td>\n",
       "      <td>6</td>\n",
       "      <td>3.39583</td>\n",
       "    </tr>\n",
       "    <tr>\n",
       "      <th>3</th>\n",
       "      <td>656</td>\n",
       "      <td>The Book Thief</td>\n",
       "      <td>6</td>\n",
       "      <td>4.26415</td>\n",
       "    </tr>\n",
       "    <tr>\n",
       "      <th>4</th>\n",
       "      <td>733</td>\n",
       "      <td>The Giver (The Giver  #1)</td>\n",
       "      <td>6</td>\n",
       "      <td>3.75000</td>\n",
       "    </tr>\n",
       "    <tr>\n",
       "      <th>5</th>\n",
       "      <td>779</td>\n",
       "      <td>The Lightning Thief (Percy Jackson and the Oly...</td>\n",
       "      <td>6</td>\n",
       "      <td>4.08065</td>\n",
       "    </tr>\n",
       "    <tr>\n",
       "      <th>6</th>\n",
       "      <td>302</td>\n",
       "      <td>Harry Potter and the Prisoner of Azkaban (Harr...</td>\n",
       "      <td>6</td>\n",
       "      <td>4.41463</td>\n",
       "    </tr>\n",
       "    <tr>\n",
       "      <th>7</th>\n",
       "      <td>299</td>\n",
       "      <td>Harry Potter and the Chamber of Secrets (Harry...</td>\n",
       "      <td>6</td>\n",
       "      <td>4.28750</td>\n",
       "    </tr>\n",
       "    <tr>\n",
       "      <th>8</th>\n",
       "      <td>497</td>\n",
       "      <td>Outlander (Outlander  #1)</td>\n",
       "      <td>6</td>\n",
       "      <td>4.12500</td>\n",
       "    </tr>\n",
       "    <tr>\n",
       "      <th>9</th>\n",
       "      <td>627</td>\n",
       "      <td>The Alchemist</td>\n",
       "      <td>6</td>\n",
       "      <td>3.78947</td>\n",
       "    </tr>\n",
       "    <tr>\n",
       "      <th>10</th>\n",
       "      <td>695</td>\n",
       "      <td>The Curious Incident of the Dog in the Night-Time</td>\n",
       "      <td>6</td>\n",
       "      <td>4.08108</td>\n",
       "    </tr>\n",
       "    <tr>\n",
       "      <th>11</th>\n",
       "      <td>696</td>\n",
       "      <td>The Da Vinci Code (Robert Langdon  #2)</td>\n",
       "      <td>6</td>\n",
       "      <td>3.83051</td>\n",
       "    </tr>\n",
       "    <tr>\n",
       "      <th>12</th>\n",
       "      <td>734</td>\n",
       "      <td>The Glass Castle</td>\n",
       "      <td>6</td>\n",
       "      <td>4.20690</td>\n",
       "    </tr>\n",
       "    <tr>\n",
       "      <th>13</th>\n",
       "      <td>750</td>\n",
       "      <td>The Hobbit  or There and Back Again</td>\n",
       "      <td>6</td>\n",
       "      <td>4.12500</td>\n",
       "    </tr>\n",
       "    <tr>\n",
       "      <th>14</th>\n",
       "      <td>673</td>\n",
       "      <td>The Catcher in the Rye</td>\n",
       "      <td>6</td>\n",
       "      <td>3.82558</td>\n",
       "    </tr>\n",
       "  </tbody>\n",
       "</table>\n",
       "</div>"
      ],
      "text/plain": [
       "    book_id                                              title  review_cnt  \\\n",
       "0       948                            Twilight (Twilight  #1)           7   \n",
       "1       854                                           The Road           6   \n",
       "2       207                                    Eat  Pray  Love           6   \n",
       "3       656                                     The Book Thief           6   \n",
       "4       733                          The Giver (The Giver  #1)           6   \n",
       "5       779  The Lightning Thief (Percy Jackson and the Oly...           6   \n",
       "6       302  Harry Potter and the Prisoner of Azkaban (Harr...           6   \n",
       "7       299  Harry Potter and the Chamber of Secrets (Harry...           6   \n",
       "8       497                          Outlander (Outlander  #1)           6   \n",
       "9       627                                      The Alchemist           6   \n",
       "10      695  The Curious Incident of the Dog in the Night-Time           6   \n",
       "11      696             The Da Vinci Code (Robert Langdon  #2)           6   \n",
       "12      734                                   The Glass Castle           6   \n",
       "13      750                The Hobbit  or There and Back Again           6   \n",
       "14      673                             The Catcher in the Rye           6   \n",
       "\n",
       "     rating  \n",
       "0   3.66250  \n",
       "1   3.77273  \n",
       "2   3.39583  \n",
       "3   4.26415  \n",
       "4   3.75000  \n",
       "5   4.08065  \n",
       "6   4.41463  \n",
       "7   4.28750  \n",
       "8   4.12500  \n",
       "9   3.78947  \n",
       "10  4.08108  \n",
       "11  3.83051  \n",
       "12  4.20690  \n",
       "13  4.12500  \n",
       "14  3.82558  "
      ]
     },
     "execution_count": 10,
     "metadata": {},
     "output_type": "execute_result"
    }
   ],
   "source": [
    "sql = '''\n",
    "WITH review AS\n",
    "(\n",
    "         SELECT   count (DISTINCT(review_id)) AS review_cnt,\n",
    "                  book_id\n",
    "         FROM     reviews\n",
    "         GROUP BY book_id), rating AS\n",
    "(\n",
    "         SELECT   avg(rating :: real) AS avg_rating,\n",
    "                  book_id\n",
    "         FROM     ratings\n",
    "         GROUP BY book_id)\n",
    "SELECT    t.book_id,\n",
    "          t.title,\n",
    "          CASE\n",
    "                    WHEN r.review_cnt IS NULL THEN 0\n",
    "                    ELSE r.review_cnt\n",
    "          END AS review_cnt,\n",
    "          CASE\n",
    "                    WHEN ra.avg_rating::real IS NULL THEN 0\n",
    "                    ELSE ra.avg_rating::real\n",
    "          END AS rating\n",
    "FROM      books t\n",
    "LEFT JOIN review r\n",
    "ON        t.book_id = r.book_id\n",
    "LEFT JOIN rating ra\n",
    "ON        r.book_id = ra.book_id\n",
    "ORDER BY  review_cnt DESC limit 15'''\n",
    "\n",
    "select_sql(sql)"
   ]
  },
  {
   "cell_type": "code",
   "execution_count": 11,
   "metadata": {},
   "outputs": [
    {
     "data": {
      "text/html": [
       "<div>\n",
       "<style scoped>\n",
       "    .dataframe tbody tr th:only-of-type {\n",
       "        vertical-align: middle;\n",
       "    }\n",
       "\n",
       "    .dataframe tbody tr th {\n",
       "        vertical-align: top;\n",
       "    }\n",
       "\n",
       "    .dataframe thead th {\n",
       "        text-align: right;\n",
       "    }\n",
       "</style>\n",
       "<table border=\"1\" class=\"dataframe\">\n",
       "  <thead>\n",
       "    <tr style=\"text-align: right;\">\n",
       "      <th></th>\n",
       "      <th>book_id</th>\n",
       "      <th>title</th>\n",
       "      <th>review_cnt</th>\n",
       "      <th>rating</th>\n",
       "    </tr>\n",
       "  </thead>\n",
       "  <tbody>\n",
       "    <tr>\n",
       "      <th>0</th>\n",
       "      <td>182</td>\n",
       "      <td>Dead Souls</td>\n",
       "      <td>2</td>\n",
       "      <td>5.0</td>\n",
       "    </tr>\n",
       "    <tr>\n",
       "      <th>1</th>\n",
       "      <td>275</td>\n",
       "      <td>Geek Love</td>\n",
       "      <td>2</td>\n",
       "      <td>5.0</td>\n",
       "    </tr>\n",
       "    <tr>\n",
       "      <th>2</th>\n",
       "      <td>169</td>\n",
       "      <td>Crucial Conversations: Tools for Talking When ...</td>\n",
       "      <td>2</td>\n",
       "      <td>5.0</td>\n",
       "    </tr>\n",
       "    <tr>\n",
       "      <th>3</th>\n",
       "      <td>86</td>\n",
       "      <td>Arrows of the Queen (Heralds of Valdemar  #1)</td>\n",
       "      <td>2</td>\n",
       "      <td>5.0</td>\n",
       "    </tr>\n",
       "    <tr>\n",
       "      <th>4</th>\n",
       "      <td>229</td>\n",
       "      <td>Evil Under the Sun (Hercule Poirot  #24)</td>\n",
       "      <td>2</td>\n",
       "      <td>5.0</td>\n",
       "    </tr>\n",
       "    <tr>\n",
       "      <th>5</th>\n",
       "      <td>224</td>\n",
       "      <td>Evening Class</td>\n",
       "      <td>2</td>\n",
       "      <td>5.0</td>\n",
       "    </tr>\n",
       "    <tr>\n",
       "      <th>6</th>\n",
       "      <td>57</td>\n",
       "      <td>Act of Treason (Mitch Rapp  #9)</td>\n",
       "      <td>2</td>\n",
       "      <td>5.0</td>\n",
       "    </tr>\n",
       "    <tr>\n",
       "      <th>7</th>\n",
       "      <td>20</td>\n",
       "      <td>A Fistful of Charms (The Hollows  #4)</td>\n",
       "      <td>2</td>\n",
       "      <td>5.0</td>\n",
       "    </tr>\n",
       "    <tr>\n",
       "      <th>8</th>\n",
       "      <td>55</td>\n",
       "      <td>A Woman of Substance (Emma Harte Saga #1)</td>\n",
       "      <td>2</td>\n",
       "      <td>5.0</td>\n",
       "    </tr>\n",
       "    <tr>\n",
       "      <th>9</th>\n",
       "      <td>76</td>\n",
       "      <td>Angels Fall</td>\n",
       "      <td>2</td>\n",
       "      <td>5.0</td>\n",
       "    </tr>\n",
       "    <tr>\n",
       "      <th>10</th>\n",
       "      <td>62</td>\n",
       "      <td>Alas  Babylon</td>\n",
       "      <td>2</td>\n",
       "      <td>5.0</td>\n",
       "    </tr>\n",
       "    <tr>\n",
       "      <th>11</th>\n",
       "      <td>213</td>\n",
       "      <td>Emily of New Moon (Emily  #1)</td>\n",
       "      <td>2</td>\n",
       "      <td>5.0</td>\n",
       "    </tr>\n",
       "    <tr>\n",
       "      <th>12</th>\n",
       "      <td>136</td>\n",
       "      <td>Captivating: Unveiling the Mystery of a Woman'...</td>\n",
       "      <td>2</td>\n",
       "      <td>5.0</td>\n",
       "    </tr>\n",
       "    <tr>\n",
       "      <th>13</th>\n",
       "      <td>17</td>\n",
       "      <td>A Dirty Job (Grim Reaper  #1)</td>\n",
       "      <td>4</td>\n",
       "      <td>5.0</td>\n",
       "    </tr>\n",
       "    <tr>\n",
       "      <th>14</th>\n",
       "      <td>297</td>\n",
       "      <td>Hard Times</td>\n",
       "      <td>2</td>\n",
       "      <td>5.0</td>\n",
       "    </tr>\n",
       "  </tbody>\n",
       "</table>\n",
       "</div>"
      ],
      "text/plain": [
       "    book_id                                              title  review_cnt  \\\n",
       "0       182                                         Dead Souls           2   \n",
       "1       275                                          Geek Love           2   \n",
       "2       169  Crucial Conversations: Tools for Talking When ...           2   \n",
       "3        86      Arrows of the Queen (Heralds of Valdemar  #1)           2   \n",
       "4       229           Evil Under the Sun (Hercule Poirot  #24)           2   \n",
       "5       224                                      Evening Class           2   \n",
       "6        57                    Act of Treason (Mitch Rapp  #9)           2   \n",
       "7        20              A Fistful of Charms (The Hollows  #4)           2   \n",
       "8        55          A Woman of Substance (Emma Harte Saga #1)           2   \n",
       "9        76                                        Angels Fall           2   \n",
       "10       62                                      Alas  Babylon           2   \n",
       "11      213                      Emily of New Moon (Emily  #1)           2   \n",
       "12      136  Captivating: Unveiling the Mystery of a Woman'...           2   \n",
       "13       17                      A Dirty Job (Grim Reaper  #1)           4   \n",
       "14      297                                         Hard Times           2   \n",
       "\n",
       "    rating  \n",
       "0      5.0  \n",
       "1      5.0  \n",
       "2      5.0  \n",
       "3      5.0  \n",
       "4      5.0  \n",
       "5      5.0  \n",
       "6      5.0  \n",
       "7      5.0  \n",
       "8      5.0  \n",
       "9      5.0  \n",
       "10     5.0  \n",
       "11     5.0  \n",
       "12     5.0  \n",
       "13     5.0  \n",
       "14     5.0  "
      ]
     },
     "execution_count": 11,
     "metadata": {},
     "output_type": "execute_result"
    }
   ],
   "source": [
    "sql = '''\n",
    "WITH review AS\n",
    "(\n",
    "         SELECT   Count (DISTINCT(review_id)) AS review_cnt,\n",
    "                  book_id\n",
    "         FROM     reviews\n",
    "         GROUP BY book_id), rating AS\n",
    "(\n",
    "         SELECT   Avg(rating :: real) AS avg_rating,\n",
    "                  book_id\n",
    "         FROM     ratings\n",
    "         GROUP BY book_id)\n",
    "SELECT    t.book_id,\n",
    "          t.title,\n",
    "          CASE\n",
    "                    WHEN r.review_cnt IS NULL THEN 0\n",
    "                    ELSE r.review_cnt\n",
    "          END AS review_cnt,\n",
    "          CASE\n",
    "                    WHEN ra.avg_rating::real IS NULL THEN 0\n",
    "                    ELSE ra.avg_rating::real\n",
    "          END AS rating\n",
    "FROM      books t\n",
    "LEFT JOIN review r\n",
    "ON        t.book_id = r.book_id\n",
    "LEFT JOIN rating ra\n",
    "ON        r.book_id = ra.book_id\n",
    "ORDER BY  rating  DESC  limit 15'''\n",
    "\n",
    "select_sql(sql)"
   ]
  },
  {
   "cell_type": "markdown",
   "metadata": {},
   "source": [
    "*Вывод:*\n",
    "\n",
    "- по количеству отзывов ледируют Сумерки, но в топ 15 вошли и произведения Роулинг, Толкиена, т.е преобладает фентези классика\n",
    "- у книг с высокой оценкой мало отзывов \n",
    "- среди лидеров по оценке встречается Российская класска, например Мёртвые души.\n",
    "\n",
    "### Издательство с наибольшим количеством книг, толще 50 стр"
   ]
  },
  {
   "cell_type": "code",
   "execution_count": 12,
   "metadata": {},
   "outputs": [
    {
     "data": {
      "text/html": [
       "<div>\n",
       "<style scoped>\n",
       "    .dataframe tbody tr th:only-of-type {\n",
       "        vertical-align: middle;\n",
       "    }\n",
       "\n",
       "    .dataframe tbody tr th {\n",
       "        vertical-align: top;\n",
       "    }\n",
       "\n",
       "    .dataframe thead th {\n",
       "        text-align: right;\n",
       "    }\n",
       "</style>\n",
       "<table border=\"1\" class=\"dataframe\">\n",
       "  <thead>\n",
       "    <tr style=\"text-align: right;\">\n",
       "      <th></th>\n",
       "      <th>best_publisher</th>\n",
       "      <th>books_cnt</th>\n",
       "    </tr>\n",
       "  </thead>\n",
       "  <tbody>\n",
       "    <tr>\n",
       "      <th>0</th>\n",
       "      <td>Penguin Books</td>\n",
       "      <td>42</td>\n",
       "    </tr>\n",
       "  </tbody>\n",
       "</table>\n",
       "</div>"
      ],
      "text/plain": [
       "  best_publisher  books_cnt\n",
       "0  Penguin Books         42"
      ]
     },
     "execution_count": 12,
     "metadata": {},
     "output_type": "execute_result"
    }
   ],
   "source": [
    "sql = '''\n",
    "WITH books_50 AS\n",
    "(\n",
    "         SELECT   count(DISTINCT(book_id)) AS book_cnt,\n",
    "                  t.publisher_id\n",
    "         FROM     books t\n",
    "         WHERE    t.num_pages > 50\n",
    "         GROUP BY publisher_id)\n",
    "SELECT    p.publisher as best_publisher,\n",
    "          CASE\n",
    "                    WHEN b.book_cnt IS NULL THEN 0\n",
    "                    ELSE b.book_cnt\n",
    "          END AS books_cnt\n",
    "FROM      publishers p\n",
    "LEFT JOIN books_50 b\n",
    "ON        p.publisher_id = b.publisher_id\n",
    "ORDER BY  books_cnt DESC limit 1\n",
    "'''\n",
    "\n",
    "select_sql(sql)"
   ]
  },
  {
   "cell_type": "markdown",
   "metadata": {},
   "source": [
    "*Вывод:*\n",
    "Больше всего книг выпустило издательство Penguin Books\t\n",
    "\n",
    "### Автор книги с самой высокой оценкой\n",
    "\n",
    "\n",
    "Будем брать только книги более 50 страниц"
   ]
  },
  {
   "cell_type": "code",
   "execution_count": 13,
   "metadata": {},
   "outputs": [
    {
     "data": {
      "text/html": [
       "<div>\n",
       "<style scoped>\n",
       "    .dataframe tbody tr th:only-of-type {\n",
       "        vertical-align: middle;\n",
       "    }\n",
       "\n",
       "    .dataframe tbody tr th {\n",
       "        vertical-align: top;\n",
       "    }\n",
       "\n",
       "    .dataframe thead th {\n",
       "        text-align: right;\n",
       "    }\n",
       "</style>\n",
       "<table border=\"1\" class=\"dataframe\">\n",
       "  <thead>\n",
       "    <tr style=\"text-align: right;\">\n",
       "      <th></th>\n",
       "      <th>author</th>\n",
       "      <th>rating</th>\n",
       "    </tr>\n",
       "  </thead>\n",
       "  <tbody>\n",
       "    <tr>\n",
       "      <th>0</th>\n",
       "      <td>J.K. Rowling/Mary GrandPré</td>\n",
       "      <td>4.283844</td>\n",
       "    </tr>\n",
       "  </tbody>\n",
       "</table>\n",
       "</div>"
      ],
      "text/plain": [
       "                       author    rating\n",
       "0  J.K. Rowling/Mary GrandPré  4.283844"
      ]
     },
     "execution_count": 13,
     "metadata": {},
     "output_type": "execute_result"
    }
   ],
   "source": [
    "sql = '''\n",
    "WITH rating_50 AS\n",
    "(\n",
    "         SELECT   Count(rating_id)     AS cnt,\n",
    "                  Avg(rating::real) AS avg_rating,\n",
    "                  book_id\n",
    "         FROM     ratings\n",
    "         GROUP BY book_id\n",
    "         HAVING   Count(rating_id) >= 50)\n",
    "SELECT    a.author,\n",
    "          AVG(r.avg_rating::real) as rating\n",
    "FROM      books t\n",
    "INNER JOIN rating_50 r\n",
    "ON        r.book_id = t.book_id\n",
    "INNER JOIN authors a\n",
    "ON        a.author_id = t.author_id\n",
    "\n",
    "GROUP BY\n",
    "    a.author_id,\n",
    "    a.author\n",
    "ORDER BY rating DESC\n",
    "LIMIT 1\n",
    "'''\n",
    "\n",
    "select_sql(sql)"
   ]
  },
  {
   "cell_type": "markdown",
   "metadata": {},
   "source": [
    "*Вывод:*\n",
    "Самая высокая оценка у книг Роулинг о Гарри Поттере\n",
    "\n",
    "### Среднее количество обзоров от пользователей\n",
    "\n",
    "Будем брать пользователей, которые поставили больше 50 оценок."
   ]
  },
  {
   "cell_type": "code",
   "execution_count": 15,
   "metadata": {},
   "outputs": [
    {
     "data": {
      "text/html": [
       "<div>\n",
       "<style scoped>\n",
       "    .dataframe tbody tr th:only-of-type {\n",
       "        vertical-align: middle;\n",
       "    }\n",
       "\n",
       "    .dataframe tbody tr th {\n",
       "        vertical-align: top;\n",
       "    }\n",
       "\n",
       "    .dataframe thead th {\n",
       "        text-align: right;\n",
       "    }\n",
       "</style>\n",
       "<table border=\"1\" class=\"dataframe\">\n",
       "  <thead>\n",
       "    <tr style=\"text-align: right;\">\n",
       "      <th></th>\n",
       "      <th>round</th>\n",
       "    </tr>\n",
       "  </thead>\n",
       "  <tbody>\n",
       "    <tr>\n",
       "      <th>0</th>\n",
       "      <td>24.33</td>\n",
       "    </tr>\n",
       "  </tbody>\n",
       "</table>\n",
       "</div>"
      ],
      "text/plain": [
       "   round\n",
       "0  24.33"
      ]
     },
     "execution_count": 15,
     "metadata": {},
     "output_type": "execute_result"
    }
   ],
   "source": [
    "sql ='''\n",
    "WITH selected_50\n",
    "     AS (SELECT username,\n",
    "                count(*) AS reviews_num\n",
    "         FROM   reviews\n",
    "         WHERE  username IN (SELECT username\n",
    "                             FROM   ratings\n",
    "                             GROUP  BY username\n",
    "                             HAVING Count(rating_id) > 50)\n",
    "         GROUP  BY username)\n",
    "SELECT ROUND(avg(reviews_num), 2)\n",
    "FROM   selected_50 \n",
    "\n",
    "'''\n",
    "select_sql(sql)"
   ]
  },
  {
   "cell_type": "markdown",
   "metadata": {},
   "source": [
    "*Вывод:*\n",
    "Пользователи поставившие более 50 оценок, в среднем написали 24 отзыва.\n",
    "\n",
    "\n",
    "### Итоги\n",
    "<a id=\"Presentation\"></a> \n",
    "[к оглавлению](#Contents)\n",
    "\n",
    "Проанализировав имеющиеся данные мы получили следующие результаты:\n",
    " - После 1.01.2000 было выпущено 819 книг\n",
    " - по количеству отзывов ледируют Сумерки, но в топ 15 вошли и произведения Роулинг, Толкиена, т.е преобладает фентези классика\n",
    " - у книг с высокой оценкой мало отзывов\n",
    " - среди лидеров по оценке встречается Российская класска, например Мёртвые души.\n",
    " - Больше всего книг выпустило издательство Penguin Books, это 42 книги\n",
    " - Самая высокая оценка у книг Роулинг о Гарри Поттере - 4\n",
    " - Пользователи поставившие более 50 оценок, в среднем написали 24 отзыва.\n",
    " \n"
   ]
  }
 ],
 "metadata": {
  "ExecuteTimeLog": [
   {
    "duration": 63,
    "start_time": "2023-01-04T16:43:24.158Z"
   },
   {
    "duration": 1244,
    "start_time": "2023-01-04T16:44:01.117Z"
   },
   {
    "duration": 5411,
    "start_time": "2023-01-04T16:44:02.364Z"
   },
   {
    "duration": 251,
    "start_time": "2023-01-04T16:44:07.777Z"
   },
   {
    "duration": 84,
    "start_time": "2023-01-04T16:44:08.031Z"
   },
   {
    "duration": 100,
    "start_time": "2023-01-04T16:44:08.117Z"
   },
   {
    "duration": 80,
    "start_time": "2023-01-04T16:44:08.219Z"
   },
   {
    "duration": 71,
    "start_time": "2023-01-04T16:44:08.301Z"
   },
   {
    "duration": 72,
    "start_time": "2023-01-04T16:44:08.374Z"
   },
   {
    "duration": 81,
    "start_time": "2023-01-04T16:44:08.448Z"
   },
   {
    "duration": 78,
    "start_time": "2023-01-04T16:44:08.531Z"
   },
   {
    "duration": 79,
    "start_time": "2023-01-04T16:44:08.611Z"
   },
   {
    "duration": 76,
    "start_time": "2023-01-04T16:44:08.692Z"
   },
   {
    "duration": 78,
    "start_time": "2023-01-04T16:44:08.770Z"
   },
   {
    "duration": 1343,
    "start_time": "2023-01-04T18:21:59.747Z"
   },
   {
    "duration": 7970,
    "start_time": "2023-01-04T18:22:01.092Z"
   },
   {
    "duration": 250,
    "start_time": "2023-01-04T18:22:09.064Z"
   },
   {
    "duration": 71,
    "start_time": "2023-01-04T18:22:09.315Z"
   },
   {
    "duration": 72,
    "start_time": "2023-01-04T18:22:09.389Z"
   },
   {
    "duration": 72,
    "start_time": "2023-01-04T18:22:09.462Z"
   },
   {
    "duration": 73,
    "start_time": "2023-01-04T18:22:09.536Z"
   },
   {
    "duration": 72,
    "start_time": "2023-01-04T18:22:09.611Z"
   },
   {
    "duration": 82,
    "start_time": "2023-01-04T18:22:09.685Z"
   },
   {
    "duration": 80,
    "start_time": "2023-01-04T18:22:09.768Z"
   },
   {
    "duration": 72,
    "start_time": "2023-01-04T18:22:09.850Z"
   },
   {
    "duration": 74,
    "start_time": "2023-01-04T18:22:09.924Z"
   },
   {
    "duration": 73,
    "start_time": "2023-01-04T18:22:10.000Z"
   },
   {
    "duration": 101,
    "start_time": "2023-01-04T18:28:08.361Z"
   },
   {
    "duration": 79,
    "start_time": "2023-01-04T18:28:12.037Z"
   },
   {
    "duration": 72,
    "start_time": "2023-01-04T18:31:08.964Z"
   },
   {
    "duration": 74,
    "start_time": "2023-01-04T18:31:30.863Z"
   },
   {
    "duration": 72,
    "start_time": "2023-01-04T18:31:34.639Z"
   },
   {
    "duration": 73,
    "start_time": "2023-01-04T18:31:44.238Z"
   },
   {
    "duration": 74,
    "start_time": "2023-01-04T18:32:19.289Z"
   },
   {
    "duration": 181,
    "start_time": "2023-01-04T18:32:32.488Z"
   },
   {
    "duration": 71,
    "start_time": "2023-01-04T18:32:35.963Z"
   },
   {
    "duration": 73,
    "start_time": "2023-01-04T18:32:44.438Z"
   },
   {
    "duration": 1190,
    "start_time": "2023-01-04T18:34:23.752Z"
   },
   {
    "duration": 8105,
    "start_time": "2023-01-04T18:34:24.944Z"
   },
   {
    "duration": 250,
    "start_time": "2023-01-04T18:34:33.051Z"
   },
   {
    "duration": 78,
    "start_time": "2023-01-04T18:34:33.302Z"
   },
   {
    "duration": 73,
    "start_time": "2023-01-04T18:34:33.383Z"
   },
   {
    "duration": 72,
    "start_time": "2023-01-04T18:34:33.458Z"
   },
   {
    "duration": 73,
    "start_time": "2023-01-04T18:34:33.532Z"
   },
   {
    "duration": 76,
    "start_time": "2023-01-04T18:34:33.606Z"
   },
   {
    "duration": 70,
    "start_time": "2023-01-04T18:34:33.684Z"
   },
   {
    "duration": 87,
    "start_time": "2023-01-04T18:34:33.756Z"
   },
   {
    "duration": 80,
    "start_time": "2023-01-04T18:34:33.845Z"
   },
   {
    "duration": 74,
    "start_time": "2023-01-04T18:34:33.927Z"
   },
   {
    "duration": 74,
    "start_time": "2023-01-04T18:34:34.003Z"
   },
   {
    "duration": 73,
    "start_time": "2023-01-04T18:34:34.079Z"
   },
   {
    "duration": 76,
    "start_time": "2023-01-04T18:36:51.772Z"
   },
   {
    "duration": 74,
    "start_time": "2023-01-04T18:36:55.642Z"
   },
   {
    "duration": 82,
    "start_time": "2023-01-04T18:37:16.691Z"
   },
   {
    "duration": 75,
    "start_time": "2023-01-04T18:37:33.391Z"
   },
   {
    "duration": 77,
    "start_time": "2023-01-04T18:39:02.066Z"
   },
   {
    "duration": 48,
    "start_time": "2023-01-05T01:57:51.803Z"
   },
   {
    "duration": 1341,
    "start_time": "2023-01-05T01:58:00.630Z"
   },
   {
    "duration": 5384,
    "start_time": "2023-01-05T01:58:01.973Z"
   },
   {
    "duration": 268,
    "start_time": "2023-01-05T01:58:07.359Z"
   },
   {
    "duration": 69,
    "start_time": "2023-01-05T01:58:07.629Z"
   },
   {
    "duration": 74,
    "start_time": "2023-01-05T01:58:07.700Z"
   },
   {
    "duration": 79,
    "start_time": "2023-01-05T01:58:07.775Z"
   },
   {
    "duration": 75,
    "start_time": "2023-01-05T01:58:07.856Z"
   },
   {
    "duration": 74,
    "start_time": "2023-01-05T01:58:07.932Z"
   },
   {
    "duration": 77,
    "start_time": "2023-01-05T01:58:08.007Z"
   },
   {
    "duration": 85,
    "start_time": "2023-01-05T01:58:08.085Z"
   },
   {
    "duration": 91,
    "start_time": "2023-01-05T01:58:08.172Z"
   },
   {
    "duration": 77,
    "start_time": "2023-01-05T01:58:08.264Z"
   },
   {
    "duration": 75,
    "start_time": "2023-01-05T01:58:08.343Z"
   },
   {
    "duration": 81,
    "start_time": "2023-01-05T01:58:08.428Z"
   },
   {
    "duration": 222,
    "start_time": "2023-01-05T01:58:08.510Z"
   },
   {
    "duration": 1,
    "start_time": "2023-01-05T01:58:08.733Z"
   },
   {
    "duration": 159,
    "start_time": "2023-01-05T01:59:03.833Z"
   },
   {
    "duration": 145,
    "start_time": "2023-01-05T01:59:56.299Z"
   },
   {
    "duration": 73,
    "start_time": "2023-01-05T02:00:06.043Z"
   },
   {
    "duration": 1459,
    "start_time": "2023-01-17T09:01:02.056Z"
   },
   {
    "duration": 6348,
    "start_time": "2023-01-17T09:01:03.517Z"
   },
   {
    "duration": 250,
    "start_time": "2023-01-17T09:01:09.867Z"
   },
   {
    "duration": 73,
    "start_time": "2023-01-17T09:01:10.119Z"
   },
   {
    "duration": 72,
    "start_time": "2023-01-17T09:01:10.194Z"
   },
   {
    "duration": 75,
    "start_time": "2023-01-17T09:01:10.268Z"
   },
   {
    "duration": 73,
    "start_time": "2023-01-17T09:01:10.344Z"
   },
   {
    "duration": 75,
    "start_time": "2023-01-17T09:01:10.419Z"
   },
   {
    "duration": 73,
    "start_time": "2023-01-17T09:01:10.496Z"
   },
   {
    "duration": 84,
    "start_time": "2023-01-17T09:01:10.571Z"
   },
   {
    "duration": 80,
    "start_time": "2023-01-17T09:01:10.656Z"
   },
   {
    "duration": 74,
    "start_time": "2023-01-17T09:01:10.738Z"
   },
   {
    "duration": 76,
    "start_time": "2023-01-17T09:01:10.813Z"
   },
   {
    "duration": 78,
    "start_time": "2023-01-17T09:01:10.891Z"
   },
   {
    "duration": 4,
    "start_time": "2023-01-17T09:01:10.971Z"
   },
   {
    "duration": 0,
    "start_time": "2023-01-17T09:01:10.977Z"
   },
   {
    "duration": 1239,
    "start_time": "2023-01-17T09:01:31.289Z"
   },
   {
    "duration": 6098,
    "start_time": "2023-01-17T09:01:32.530Z"
   },
   {
    "duration": 252,
    "start_time": "2023-01-17T09:01:38.629Z"
   },
   {
    "duration": 73,
    "start_time": "2023-01-17T09:01:38.883Z"
   },
   {
    "duration": 72,
    "start_time": "2023-01-17T09:01:38.957Z"
   },
   {
    "duration": 73,
    "start_time": "2023-01-17T09:01:39.031Z"
   },
   {
    "duration": 72,
    "start_time": "2023-01-17T09:01:39.105Z"
   },
   {
    "duration": 74,
    "start_time": "2023-01-17T09:01:39.179Z"
   },
   {
    "duration": 73,
    "start_time": "2023-01-17T09:01:39.255Z"
   },
   {
    "duration": 80,
    "start_time": "2023-01-17T09:01:39.330Z"
   },
   {
    "duration": 78,
    "start_time": "2023-01-17T09:01:39.412Z"
   },
   {
    "duration": 73,
    "start_time": "2023-01-17T09:01:39.492Z"
   },
   {
    "duration": 75,
    "start_time": "2023-01-17T09:01:39.567Z"
   },
   {
    "duration": 76,
    "start_time": "2023-01-17T09:01:39.644Z"
   },
   {
    "duration": 84,
    "start_time": "2023-01-17T09:01:39.721Z"
   },
   {
    "duration": 1263,
    "start_time": "2023-01-17T09:02:03.069Z"
   },
   {
    "duration": 6262,
    "start_time": "2023-01-17T09:02:04.335Z"
   },
   {
    "duration": 271,
    "start_time": "2023-01-17T09:02:10.599Z"
   },
   {
    "duration": 77,
    "start_time": "2023-01-17T09:02:10.872Z"
   },
   {
    "duration": 76,
    "start_time": "2023-01-17T09:02:10.951Z"
   },
   {
    "duration": 79,
    "start_time": "2023-01-17T09:02:11.029Z"
   },
   {
    "duration": 78,
    "start_time": "2023-01-17T09:02:11.109Z"
   },
   {
    "duration": 80,
    "start_time": "2023-01-17T09:02:11.188Z"
   },
   {
    "duration": 76,
    "start_time": "2023-01-17T09:02:11.270Z"
   },
   {
    "duration": 87,
    "start_time": "2023-01-17T09:02:11.347Z"
   },
   {
    "duration": 85,
    "start_time": "2023-01-17T09:02:11.435Z"
   },
   {
    "duration": 79,
    "start_time": "2023-01-17T09:02:11.522Z"
   },
   {
    "duration": 78,
    "start_time": "2023-01-17T09:02:11.603Z"
   },
   {
    "duration": 81,
    "start_time": "2023-01-17T09:02:11.684Z"
   },
   {
    "duration": 78,
    "start_time": "2023-01-17T09:02:11.767Z"
   }
  ],
  "kernelspec": {
   "display_name": "Python 3 (ipykernel)",
   "language": "python",
   "name": "python3"
  },
  "language_info": {
   "codemirror_mode": {
    "name": "ipython",
    "version": 3
   },
   "file_extension": ".py",
   "mimetype": "text/x-python",
   "name": "python",
   "nbconvert_exporter": "python",
   "pygments_lexer": "ipython3",
   "version": "3.9.12"
  },
  "toc": {
   "base_numbering": 1,
   "nav_menu": {},
   "number_sections": true,
   "sideBar": true,
   "skip_h1_title": true,
   "title_cell": "Table of Contents",
   "title_sidebar": "Contents",
   "toc_cell": false,
   "toc_position": {},
   "toc_section_display": true,
   "toc_window_display": false
  }
 },
 "nbformat": 4,
 "nbformat_minor": 2
}
