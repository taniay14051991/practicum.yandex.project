{
 "cells": [
  {
   "cell_type": "markdown",
   "id": "c81daeeb",
   "metadata": {
    "deletable": false,
    "id": "c81daeeb"
   },
   "source": [
    "# Исследование надежности заемщиков\n"
   ]
  },
  {
   "cell_type": "markdown",
   "id": "827c20bf",
   "metadata": {
    "id": "827c20bf"
   },
   "source": [
    "Во второй части проекта вы выполните шаги 3 и 4. Их вручную проверит ревьюер.\n",
    "Чтобы вам не пришлось писать код заново для шагов 1 и 2, мы добавили авторские решения в ячейки с кодом. \n",
    "\n"
   ]
  },
  {
   "cell_type": "markdown",
   "id": "744d7639",
   "metadata": {
    "deletable": false,
    "id": "744d7639"
   },
   "source": [
    "## Откройте таблицу и изучите общую информацию о данных"
   ]
  },
  {
   "cell_type": "markdown",
   "id": "e7a14c31",
   "metadata": {
    "deletable": false,
    "id": "e7a14c31"
   },
   "source": [
    "**Задание 1. Импортируйте библиотеку pandas. Считайте данные из csv-файла в датафрейм и сохраните в переменную `data`. Путь к файлу:**\n",
    "\n",
    "`/datasets/data.csv`"
   ]
  },
  {
   "cell_type": "code",
   "execution_count": 1,
   "id": "7bcf75c9",
   "metadata": {
    "deletable": false,
    "id": "7bcf75c9"
   },
   "outputs": [],
   "source": [
    "import pandas as pd\n",
    "\n",
    "try:\n",
    "    data = pd.read_csv('/datasets/data.csv')\n",
    "except:\n",
    "    data = pd.read_csv('https://code.s3.yandex.net/datasets/data.csv')"
   ]
  },
  {
   "cell_type": "markdown",
   "id": "b8038fe3",
   "metadata": {
    "deletable": false,
    "id": "b8038fe3"
   },
   "source": [
    "**Задание 2. Выведите первые 20 строчек датафрейма `data` на экран.**"
   ]
  },
  {
   "cell_type": "code",
   "execution_count": 2,
   "id": "2a7cab99",
   "metadata": {
    "deletable": false,
    "id": "2a7cab99",
    "outputId": "1a8f3ef2-d323-4ec2-ddf7-89670b5944c4"
   },
   "outputs": [
    {
     "data": {
      "text/html": [
       "<div>\n",
       "<style scoped>\n",
       "    .dataframe tbody tr th:only-of-type {\n",
       "        vertical-align: middle;\n",
       "    }\n",
       "\n",
       "    .dataframe tbody tr th {\n",
       "        vertical-align: top;\n",
       "    }\n",
       "\n",
       "    .dataframe thead th {\n",
       "        text-align: right;\n",
       "    }\n",
       "</style>\n",
       "<table border=\"1\" class=\"dataframe\">\n",
       "  <thead>\n",
       "    <tr style=\"text-align: right;\">\n",
       "      <th></th>\n",
       "      <th>children</th>\n",
       "      <th>days_employed</th>\n",
       "      <th>dob_years</th>\n",
       "      <th>education</th>\n",
       "      <th>education_id</th>\n",
       "      <th>family_status</th>\n",
       "      <th>family_status_id</th>\n",
       "      <th>gender</th>\n",
       "      <th>income_type</th>\n",
       "      <th>debt</th>\n",
       "      <th>total_income</th>\n",
       "      <th>purpose</th>\n",
       "    </tr>\n",
       "  </thead>\n",
       "  <tbody>\n",
       "    <tr>\n",
       "      <th>0</th>\n",
       "      <td>1</td>\n",
       "      <td>-8437.673028</td>\n",
       "      <td>42</td>\n",
       "      <td>высшее</td>\n",
       "      <td>0</td>\n",
       "      <td>женат / замужем</td>\n",
       "      <td>0</td>\n",
       "      <td>F</td>\n",
       "      <td>сотрудник</td>\n",
       "      <td>0</td>\n",
       "      <td>253875.639453</td>\n",
       "      <td>покупка жилья</td>\n",
       "    </tr>\n",
       "    <tr>\n",
       "      <th>1</th>\n",
       "      <td>1</td>\n",
       "      <td>-4024.803754</td>\n",
       "      <td>36</td>\n",
       "      <td>среднее</td>\n",
       "      <td>1</td>\n",
       "      <td>женат / замужем</td>\n",
       "      <td>0</td>\n",
       "      <td>F</td>\n",
       "      <td>сотрудник</td>\n",
       "      <td>0</td>\n",
       "      <td>112080.014102</td>\n",
       "      <td>приобретение автомобиля</td>\n",
       "    </tr>\n",
       "    <tr>\n",
       "      <th>2</th>\n",
       "      <td>0</td>\n",
       "      <td>-5623.422610</td>\n",
       "      <td>33</td>\n",
       "      <td>Среднее</td>\n",
       "      <td>1</td>\n",
       "      <td>женат / замужем</td>\n",
       "      <td>0</td>\n",
       "      <td>M</td>\n",
       "      <td>сотрудник</td>\n",
       "      <td>0</td>\n",
       "      <td>145885.952297</td>\n",
       "      <td>покупка жилья</td>\n",
       "    </tr>\n",
       "    <tr>\n",
       "      <th>3</th>\n",
       "      <td>3</td>\n",
       "      <td>-4124.747207</td>\n",
       "      <td>32</td>\n",
       "      <td>среднее</td>\n",
       "      <td>1</td>\n",
       "      <td>женат / замужем</td>\n",
       "      <td>0</td>\n",
       "      <td>M</td>\n",
       "      <td>сотрудник</td>\n",
       "      <td>0</td>\n",
       "      <td>267628.550329</td>\n",
       "      <td>дополнительное образование</td>\n",
       "    </tr>\n",
       "    <tr>\n",
       "      <th>4</th>\n",
       "      <td>0</td>\n",
       "      <td>340266.072047</td>\n",
       "      <td>53</td>\n",
       "      <td>среднее</td>\n",
       "      <td>1</td>\n",
       "      <td>гражданский брак</td>\n",
       "      <td>1</td>\n",
       "      <td>F</td>\n",
       "      <td>пенсионер</td>\n",
       "      <td>0</td>\n",
       "      <td>158616.077870</td>\n",
       "      <td>сыграть свадьбу</td>\n",
       "    </tr>\n",
       "    <tr>\n",
       "      <th>5</th>\n",
       "      <td>0</td>\n",
       "      <td>-926.185831</td>\n",
       "      <td>27</td>\n",
       "      <td>высшее</td>\n",
       "      <td>0</td>\n",
       "      <td>гражданский брак</td>\n",
       "      <td>1</td>\n",
       "      <td>M</td>\n",
       "      <td>компаньон</td>\n",
       "      <td>0</td>\n",
       "      <td>255763.565419</td>\n",
       "      <td>покупка жилья</td>\n",
       "    </tr>\n",
       "    <tr>\n",
       "      <th>6</th>\n",
       "      <td>0</td>\n",
       "      <td>-2879.202052</td>\n",
       "      <td>43</td>\n",
       "      <td>высшее</td>\n",
       "      <td>0</td>\n",
       "      <td>женат / замужем</td>\n",
       "      <td>0</td>\n",
       "      <td>F</td>\n",
       "      <td>компаньон</td>\n",
       "      <td>0</td>\n",
       "      <td>240525.971920</td>\n",
       "      <td>операции с жильем</td>\n",
       "    </tr>\n",
       "    <tr>\n",
       "      <th>7</th>\n",
       "      <td>0</td>\n",
       "      <td>-152.779569</td>\n",
       "      <td>50</td>\n",
       "      <td>СРЕДНЕЕ</td>\n",
       "      <td>1</td>\n",
       "      <td>женат / замужем</td>\n",
       "      <td>0</td>\n",
       "      <td>M</td>\n",
       "      <td>сотрудник</td>\n",
       "      <td>0</td>\n",
       "      <td>135823.934197</td>\n",
       "      <td>образование</td>\n",
       "    </tr>\n",
       "    <tr>\n",
       "      <th>8</th>\n",
       "      <td>2</td>\n",
       "      <td>-6929.865299</td>\n",
       "      <td>35</td>\n",
       "      <td>ВЫСШЕЕ</td>\n",
       "      <td>0</td>\n",
       "      <td>гражданский брак</td>\n",
       "      <td>1</td>\n",
       "      <td>F</td>\n",
       "      <td>сотрудник</td>\n",
       "      <td>0</td>\n",
       "      <td>95856.832424</td>\n",
       "      <td>на проведение свадьбы</td>\n",
       "    </tr>\n",
       "    <tr>\n",
       "      <th>9</th>\n",
       "      <td>0</td>\n",
       "      <td>-2188.756445</td>\n",
       "      <td>41</td>\n",
       "      <td>среднее</td>\n",
       "      <td>1</td>\n",
       "      <td>женат / замужем</td>\n",
       "      <td>0</td>\n",
       "      <td>M</td>\n",
       "      <td>сотрудник</td>\n",
       "      <td>0</td>\n",
       "      <td>144425.938277</td>\n",
       "      <td>покупка жилья для семьи</td>\n",
       "    </tr>\n",
       "    <tr>\n",
       "      <th>10</th>\n",
       "      <td>2</td>\n",
       "      <td>-4171.483647</td>\n",
       "      <td>36</td>\n",
       "      <td>высшее</td>\n",
       "      <td>0</td>\n",
       "      <td>женат / замужем</td>\n",
       "      <td>0</td>\n",
       "      <td>M</td>\n",
       "      <td>компаньон</td>\n",
       "      <td>0</td>\n",
       "      <td>113943.491460</td>\n",
       "      <td>покупка недвижимости</td>\n",
       "    </tr>\n",
       "    <tr>\n",
       "      <th>11</th>\n",
       "      <td>0</td>\n",
       "      <td>-792.701887</td>\n",
       "      <td>40</td>\n",
       "      <td>среднее</td>\n",
       "      <td>1</td>\n",
       "      <td>женат / замужем</td>\n",
       "      <td>0</td>\n",
       "      <td>F</td>\n",
       "      <td>сотрудник</td>\n",
       "      <td>0</td>\n",
       "      <td>77069.234271</td>\n",
       "      <td>покупка коммерческой недвижимости</td>\n",
       "    </tr>\n",
       "    <tr>\n",
       "      <th>12</th>\n",
       "      <td>0</td>\n",
       "      <td>NaN</td>\n",
       "      <td>65</td>\n",
       "      <td>среднее</td>\n",
       "      <td>1</td>\n",
       "      <td>гражданский брак</td>\n",
       "      <td>1</td>\n",
       "      <td>M</td>\n",
       "      <td>пенсионер</td>\n",
       "      <td>0</td>\n",
       "      <td>NaN</td>\n",
       "      <td>сыграть свадьбу</td>\n",
       "    </tr>\n",
       "    <tr>\n",
       "      <th>13</th>\n",
       "      <td>0</td>\n",
       "      <td>-1846.641941</td>\n",
       "      <td>54</td>\n",
       "      <td>неоконченное высшее</td>\n",
       "      <td>2</td>\n",
       "      <td>женат / замужем</td>\n",
       "      <td>0</td>\n",
       "      <td>F</td>\n",
       "      <td>сотрудник</td>\n",
       "      <td>0</td>\n",
       "      <td>130458.228857</td>\n",
       "      <td>приобретение автомобиля</td>\n",
       "    </tr>\n",
       "    <tr>\n",
       "      <th>14</th>\n",
       "      <td>0</td>\n",
       "      <td>-1844.956182</td>\n",
       "      <td>56</td>\n",
       "      <td>высшее</td>\n",
       "      <td>0</td>\n",
       "      <td>гражданский брак</td>\n",
       "      <td>1</td>\n",
       "      <td>F</td>\n",
       "      <td>компаньон</td>\n",
       "      <td>1</td>\n",
       "      <td>165127.911772</td>\n",
       "      <td>покупка жилой недвижимости</td>\n",
       "    </tr>\n",
       "    <tr>\n",
       "      <th>15</th>\n",
       "      <td>1</td>\n",
       "      <td>-972.364419</td>\n",
       "      <td>26</td>\n",
       "      <td>среднее</td>\n",
       "      <td>1</td>\n",
       "      <td>женат / замужем</td>\n",
       "      <td>0</td>\n",
       "      <td>F</td>\n",
       "      <td>сотрудник</td>\n",
       "      <td>0</td>\n",
       "      <td>116820.904450</td>\n",
       "      <td>строительство собственной недвижимости</td>\n",
       "    </tr>\n",
       "    <tr>\n",
       "      <th>16</th>\n",
       "      <td>0</td>\n",
       "      <td>-1719.934226</td>\n",
       "      <td>35</td>\n",
       "      <td>среднее</td>\n",
       "      <td>1</td>\n",
       "      <td>женат / замужем</td>\n",
       "      <td>0</td>\n",
       "      <td>F</td>\n",
       "      <td>сотрудник</td>\n",
       "      <td>0</td>\n",
       "      <td>289202.704229</td>\n",
       "      <td>недвижимость</td>\n",
       "    </tr>\n",
       "    <tr>\n",
       "      <th>17</th>\n",
       "      <td>0</td>\n",
       "      <td>-2369.999720</td>\n",
       "      <td>33</td>\n",
       "      <td>высшее</td>\n",
       "      <td>0</td>\n",
       "      <td>гражданский брак</td>\n",
       "      <td>1</td>\n",
       "      <td>M</td>\n",
       "      <td>сотрудник</td>\n",
       "      <td>0</td>\n",
       "      <td>90410.586745</td>\n",
       "      <td>строительство недвижимости</td>\n",
       "    </tr>\n",
       "    <tr>\n",
       "      <th>18</th>\n",
       "      <td>0</td>\n",
       "      <td>400281.136913</td>\n",
       "      <td>53</td>\n",
       "      <td>среднее</td>\n",
       "      <td>1</td>\n",
       "      <td>вдовец / вдова</td>\n",
       "      <td>2</td>\n",
       "      <td>F</td>\n",
       "      <td>пенсионер</td>\n",
       "      <td>0</td>\n",
       "      <td>56823.777243</td>\n",
       "      <td>на покупку подержанного автомобиля</td>\n",
       "    </tr>\n",
       "    <tr>\n",
       "      <th>19</th>\n",
       "      <td>0</td>\n",
       "      <td>-10038.818549</td>\n",
       "      <td>48</td>\n",
       "      <td>СРЕДНЕЕ</td>\n",
       "      <td>1</td>\n",
       "      <td>в разводе</td>\n",
       "      <td>3</td>\n",
       "      <td>F</td>\n",
       "      <td>сотрудник</td>\n",
       "      <td>0</td>\n",
       "      <td>242831.107982</td>\n",
       "      <td>на покупку своего автомобиля</td>\n",
       "    </tr>\n",
       "  </tbody>\n",
       "</table>\n",
       "</div>"
      ],
      "text/plain": [
       "    children  days_employed  dob_years            education  education_id  \\\n",
       "0          1   -8437.673028         42               высшее             0   \n",
       "1          1   -4024.803754         36              среднее             1   \n",
       "2          0   -5623.422610         33              Среднее             1   \n",
       "3          3   -4124.747207         32              среднее             1   \n",
       "4          0  340266.072047         53              среднее             1   \n",
       "5          0    -926.185831         27               высшее             0   \n",
       "6          0   -2879.202052         43               высшее             0   \n",
       "7          0    -152.779569         50              СРЕДНЕЕ             1   \n",
       "8          2   -6929.865299         35               ВЫСШЕЕ             0   \n",
       "9          0   -2188.756445         41              среднее             1   \n",
       "10         2   -4171.483647         36               высшее             0   \n",
       "11         0    -792.701887         40              среднее             1   \n",
       "12         0            NaN         65              среднее             1   \n",
       "13         0   -1846.641941         54  неоконченное высшее             2   \n",
       "14         0   -1844.956182         56               высшее             0   \n",
       "15         1    -972.364419         26              среднее             1   \n",
       "16         0   -1719.934226         35              среднее             1   \n",
       "17         0   -2369.999720         33               высшее             0   \n",
       "18         0  400281.136913         53              среднее             1   \n",
       "19         0  -10038.818549         48              СРЕДНЕЕ             1   \n",
       "\n",
       "       family_status  family_status_id gender income_type  debt  \\\n",
       "0    женат / замужем                 0      F   сотрудник     0   \n",
       "1    женат / замужем                 0      F   сотрудник     0   \n",
       "2    женат / замужем                 0      M   сотрудник     0   \n",
       "3    женат / замужем                 0      M   сотрудник     0   \n",
       "4   гражданский брак                 1      F   пенсионер     0   \n",
       "5   гражданский брак                 1      M   компаньон     0   \n",
       "6    женат / замужем                 0      F   компаньон     0   \n",
       "7    женат / замужем                 0      M   сотрудник     0   \n",
       "8   гражданский брак                 1      F   сотрудник     0   \n",
       "9    женат / замужем                 0      M   сотрудник     0   \n",
       "10   женат / замужем                 0      M   компаньон     0   \n",
       "11   женат / замужем                 0      F   сотрудник     0   \n",
       "12  гражданский брак                 1      M   пенсионер     0   \n",
       "13   женат / замужем                 0      F   сотрудник     0   \n",
       "14  гражданский брак                 1      F   компаньон     1   \n",
       "15   женат / замужем                 0      F   сотрудник     0   \n",
       "16   женат / замужем                 0      F   сотрудник     0   \n",
       "17  гражданский брак                 1      M   сотрудник     0   \n",
       "18    вдовец / вдова                 2      F   пенсионер     0   \n",
       "19         в разводе                 3      F   сотрудник     0   \n",
       "\n",
       "     total_income                                 purpose  \n",
       "0   253875.639453                           покупка жилья  \n",
       "1   112080.014102                 приобретение автомобиля  \n",
       "2   145885.952297                           покупка жилья  \n",
       "3   267628.550329              дополнительное образование  \n",
       "4   158616.077870                         сыграть свадьбу  \n",
       "5   255763.565419                           покупка жилья  \n",
       "6   240525.971920                       операции с жильем  \n",
       "7   135823.934197                             образование  \n",
       "8    95856.832424                   на проведение свадьбы  \n",
       "9   144425.938277                 покупка жилья для семьи  \n",
       "10  113943.491460                    покупка недвижимости  \n",
       "11   77069.234271       покупка коммерческой недвижимости  \n",
       "12            NaN                         сыграть свадьбу  \n",
       "13  130458.228857                 приобретение автомобиля  \n",
       "14  165127.911772              покупка жилой недвижимости  \n",
       "15  116820.904450  строительство собственной недвижимости  \n",
       "16  289202.704229                            недвижимость  \n",
       "17   90410.586745              строительство недвижимости  \n",
       "18   56823.777243      на покупку подержанного автомобиля  \n",
       "19  242831.107982            на покупку своего автомобиля  "
      ]
     },
     "execution_count": 2,
     "metadata": {},
     "output_type": "execute_result"
    }
   ],
   "source": [
    "data.head(20)"
   ]
  },
  {
   "cell_type": "markdown",
   "id": "1c12e233",
   "metadata": {
    "deletable": false,
    "id": "1c12e233"
   },
   "source": [
    "**Задание 3. Выведите основную информацию о датафрейме с помощью метода `info()`.**"
   ]
  },
  {
   "cell_type": "code",
   "execution_count": 3,
   "id": "2b757bca",
   "metadata": {
    "deletable": false,
    "id": "2b757bca",
    "outputId": "15376089-8dad-46c9-b520-c05248d43158"
   },
   "outputs": [
    {
     "name": "stdout",
     "output_type": "stream",
     "text": [
      "<class 'pandas.core.frame.DataFrame'>\n",
      "RangeIndex: 21525 entries, 0 to 21524\n",
      "Data columns (total 12 columns):\n",
      " #   Column            Non-Null Count  Dtype  \n",
      "---  ------            --------------  -----  \n",
      " 0   children          21525 non-null  int64  \n",
      " 1   days_employed     19351 non-null  float64\n",
      " 2   dob_years         21525 non-null  int64  \n",
      " 3   education         21525 non-null  object \n",
      " 4   education_id      21525 non-null  int64  \n",
      " 5   family_status     21525 non-null  object \n",
      " 6   family_status_id  21525 non-null  int64  \n",
      " 7   gender            21525 non-null  object \n",
      " 8   income_type       21525 non-null  object \n",
      " 9   debt              21525 non-null  int64  \n",
      " 10  total_income      19351 non-null  float64\n",
      " 11  purpose           21525 non-null  object \n",
      "dtypes: float64(2), int64(5), object(5)\n",
      "memory usage: 2.0+ MB\n"
     ]
    }
   ],
   "source": [
    "data.info()"
   ]
  },
  {
   "cell_type": "markdown",
   "id": "333ec665",
   "metadata": {
    "deletable": false,
    "id": "333ec665"
   },
   "source": [
    "## Предобработка данных"
   ]
  },
  {
   "cell_type": "markdown",
   "id": "02d92d53",
   "metadata": {
    "deletable": false,
    "id": "02d92d53"
   },
   "source": [
    "### Удаление пропусков"
   ]
  },
  {
   "cell_type": "markdown",
   "id": "cd84967c",
   "metadata": {
    "deletable": false,
    "id": "cd84967c"
   },
   "source": [
    "**Задание 4. Выведите количество пропущенных значений для каждого столбца. Используйте комбинацию двух методов.**"
   ]
  },
  {
   "cell_type": "code",
   "execution_count": 4,
   "id": "7f9b2309",
   "metadata": {
    "deletable": false,
    "id": "7f9b2309",
    "outputId": "81f4d817-781c-465c-ed15-91ce4446810d"
   },
   "outputs": [
    {
     "data": {
      "text/plain": [
       "children               0\n",
       "days_employed       2174\n",
       "dob_years              0\n",
       "education              0\n",
       "education_id           0\n",
       "family_status          0\n",
       "family_status_id       0\n",
       "gender                 0\n",
       "income_type            0\n",
       "debt                   0\n",
       "total_income        2174\n",
       "purpose                0\n",
       "dtype: int64"
      ]
     },
     "execution_count": 4,
     "metadata": {},
     "output_type": "execute_result"
    }
   ],
   "source": [
    "data.isna().sum()"
   ]
  },
  {
   "cell_type": "markdown",
   "id": "db86e27b",
   "metadata": {
    "deletable": false,
    "id": "db86e27b"
   },
   "source": [
    "**Задание 5. В двух столбцах есть пропущенные значения. Один из них — `days_employed`. Пропуски в этом столбце вы обработаете на следующем этапе. Другой столбец с пропущенными значениями — `total_income` — хранит данные о доходах. На сумму дохода сильнее всего влияет тип занятости, поэтому заполнить пропуски в этом столбце нужно медианным значением по каждому типу из столбца `income_type`. Например, у человека с типом занятости `сотрудник` пропуск в столбце `total_income` должен быть заполнен медианным доходом среди всех записей с тем же типом.**"
   ]
  },
  {
   "cell_type": "code",
   "execution_count": 5,
   "id": "42006a93",
   "metadata": {
    "deletable": false,
    "id": "42006a93"
   },
   "outputs": [],
   "source": [
    "for t in data['income_type'].unique():\n",
    "    data.loc[(data['income_type'] == t) & (data['total_income'].isna()), 'total_income'] = \\\n",
    "    data.loc[(data['income_type'] == t), 'total_income'].median()"
   ]
  },
  {
   "cell_type": "markdown",
   "id": "89da5ece",
   "metadata": {
    "deletable": false,
    "id": "89da5ece"
   },
   "source": [
    "### Обработка аномальных значений"
   ]
  },
  {
   "cell_type": "markdown",
   "id": "57964554",
   "metadata": {
    "deletable": false,
    "id": "57964554"
   },
   "source": [
    "**Задание 6. В данных могут встречаться артефакты (аномалии) — значения, которые не отражают действительность и появились по какой-то ошибке. таким артефактом будет отрицательное количество дней трудового стажа в столбце `days_employed`. Для реальных данных это нормально. Обработайте значения в этом столбце: замените все отрицательные значения положительными с помощью метода `abs()`.**"
   ]
  },
  {
   "cell_type": "code",
   "execution_count": 6,
   "id": "f6f055bf",
   "metadata": {
    "deletable": false,
    "id": "f6f055bf"
   },
   "outputs": [],
   "source": [
    "data['days_employed'] = data['days_employed'].abs()"
   ]
  },
  {
   "cell_type": "markdown",
   "id": "6107dd2f",
   "metadata": {
    "deletable": false,
    "id": "6107dd2f"
   },
   "source": [
    "**Задание 7. Для каждого типа занятости выведите медианное значение трудового стажа `days_employed` в днях.**"
   ]
  },
  {
   "cell_type": "code",
   "execution_count": 7,
   "id": "85a5faf6",
   "metadata": {
    "deletable": false,
    "id": "85a5faf6",
    "outputId": "801ef80e-522b-4668-f34e-565af7432bcf"
   },
   "outputs": [
    {
     "data": {
      "text/plain": [
       "income_type\n",
       "безработный        366413.652744\n",
       "в декрете            3296.759962\n",
       "госслужащий          2689.368353\n",
       "компаньон            1547.382223\n",
       "пенсионер          365213.306266\n",
       "предприниматель       520.848083\n",
       "сотрудник            1574.202821\n",
       "студент               578.751554\n",
       "Name: days_employed, dtype: float64"
      ]
     },
     "execution_count": 7,
     "metadata": {},
     "output_type": "execute_result"
    }
   ],
   "source": [
    "data.groupby('income_type')['days_employed'].agg('median')"
   ]
  },
  {
   "cell_type": "markdown",
   "id": "38d1a030",
   "metadata": {
    "deletable": false,
    "id": "38d1a030"
   },
   "source": [
    "У двух типов (безработные и пенсионеры) получатся аномально большие значения. Исправить такие значения сложно, поэтому оставьте их как есть. Тем более этот столбец не понадобится вам для исследования."
   ]
  },
  {
   "cell_type": "markdown",
   "id": "d8a9f147",
   "metadata": {
    "deletable": false,
    "id": "d8a9f147"
   },
   "source": [
    "**Задание 8. Выведите перечень уникальных значений столбца `children`.**"
   ]
  },
  {
   "cell_type": "code",
   "execution_count": 8,
   "id": "ef5056eb",
   "metadata": {
    "deletable": false,
    "id": "ef5056eb",
    "outputId": "6975b15c-7f95-4697-d16d-a0c79b657b03"
   },
   "outputs": [
    {
     "data": {
      "text/plain": [
       "array([ 1,  0,  3,  2, -1,  4, 20,  5])"
      ]
     },
     "execution_count": 8,
     "metadata": {},
     "output_type": "execute_result"
    }
   ],
   "source": [
    "data['children'].unique()"
   ]
  },
  {
   "cell_type": "markdown",
   "id": "40b9ebf2",
   "metadata": {
    "deletable": false,
    "id": "40b9ebf2"
   },
   "source": [
    "**Задание 9. В столбце `children` есть два аномальных значения. Удалите строки, в которых встречаются такие аномальные значения из датафрейма `data`.**"
   ]
  },
  {
   "cell_type": "code",
   "execution_count": 9,
   "id": "3ff9801d",
   "metadata": {
    "deletable": false,
    "id": "3ff9801d"
   },
   "outputs": [],
   "source": [
    "data = data[(data['children'] != -1) & (data['children'] != 20)]"
   ]
  },
  {
   "cell_type": "markdown",
   "id": "bbc4d0ce",
   "metadata": {
    "deletable": false,
    "id": "bbc4d0ce"
   },
   "source": [
    "**Задание 10. Ещё раз выведите перечень уникальных значений столбца `children`, чтобы убедиться, что артефакты удалены.**"
   ]
  },
  {
   "cell_type": "code",
   "execution_count": 10,
   "id": "ad4fa8b7",
   "metadata": {
    "deletable": false,
    "id": "ad4fa8b7",
    "outputId": "b2097101-d49d-44d9-901b-32a65c9463d1"
   },
   "outputs": [
    {
     "data": {
      "text/plain": [
       "array([1, 0, 3, 2, 4, 5])"
      ]
     },
     "execution_count": 10,
     "metadata": {},
     "output_type": "execute_result"
    }
   ],
   "source": [
    "data['children'].unique()"
   ]
  },
  {
   "cell_type": "markdown",
   "id": "75440b63",
   "metadata": {
    "deletable": false,
    "id": "75440b63"
   },
   "source": [
    "### Удаление пропусков (продолжение)"
   ]
  },
  {
   "cell_type": "markdown",
   "id": "f4ea573f",
   "metadata": {
    "deletable": false,
    "id": "f4ea573f"
   },
   "source": [
    "**Задание 11. Заполните пропуски в столбце `days_employed` медианными значениями по каждого типа занятости `income_type`.**"
   ]
  },
  {
   "cell_type": "code",
   "execution_count": 11,
   "id": "af6b1a7e",
   "metadata": {
    "deletable": false,
    "id": "af6b1a7e"
   },
   "outputs": [],
   "source": [
    "for t in data['income_type'].unique():\n",
    "    data.loc[(data['income_type'] == t) & (data['days_employed'].isna()), 'days_employed'] = \\\n",
    "    data.loc[(data['income_type'] == t), 'days_employed'].median()"
   ]
  },
  {
   "cell_type": "markdown",
   "id": "2753f40d",
   "metadata": {
    "deletable": false,
    "id": "2753f40d"
   },
   "source": [
    "**Задание 12. Убедитесь, что все пропуски заполнены. Проверьте себя и ещё раз выведите количество пропущенных значений для каждого столбца с помощью двух методов.**"
   ]
  },
  {
   "cell_type": "code",
   "execution_count": 12,
   "id": "55f78bc2",
   "metadata": {
    "deletable": false,
    "id": "55f78bc2",
    "outputId": "8da1e4e1-358e-4e87-98c9-f261bce0a7b2"
   },
   "outputs": [
    {
     "data": {
      "text/plain": [
       "children            0\n",
       "days_employed       0\n",
       "dob_years           0\n",
       "education           0\n",
       "education_id        0\n",
       "family_status       0\n",
       "family_status_id    0\n",
       "gender              0\n",
       "income_type         0\n",
       "debt                0\n",
       "total_income        0\n",
       "purpose             0\n",
       "dtype: int64"
      ]
     },
     "execution_count": 12,
     "metadata": {},
     "output_type": "execute_result"
    }
   ],
   "source": [
    "data.isna().sum()"
   ]
  },
  {
   "cell_type": "markdown",
   "id": "ddc81e43",
   "metadata": {
    "deletable": false,
    "id": "ddc81e43"
   },
   "source": [
    "### Изменение типов данных"
   ]
  },
  {
   "cell_type": "markdown",
   "id": "42d19d24",
   "metadata": {
    "deletable": false,
    "id": "42d19d24"
   },
   "source": [
    "**Задание 13. Замените вещественный тип данных в столбце `total_income` на целочисленный с помощью метода `astype()`.**"
   ]
  },
  {
   "cell_type": "code",
   "execution_count": 13,
   "id": "920b65ad",
   "metadata": {
    "deletable": false,
    "id": "920b65ad"
   },
   "outputs": [],
   "source": [
    "data['total_income'] = data['total_income'].astype(int)"
   ]
  },
  {
   "cell_type": "markdown",
   "id": "80c420ba",
   "metadata": {
    "deletable": false,
    "id": "80c420ba"
   },
   "source": [
    "### Обработка дубликатов"
   ]
  },
  {
   "cell_type": "markdown",
   "id": "dc587695",
   "metadata": {
    "deletable": false,
    "id": "dc587695"
   },
   "source": [
    "**Задание 14. Выведите на экран количество строк-дубликатов в данных. Если такие строки присутствуют, удалите их.**"
   ]
  },
  {
   "cell_type": "code",
   "execution_count": 14,
   "id": "3ee445e4",
   "metadata": {
    "deletable": false,
    "id": "3ee445e4",
    "outputId": "9684deba-1934-42d1-99e1-cda61740f822"
   },
   "outputs": [
    {
     "data": {
      "text/plain": [
       "54"
      ]
     },
     "execution_count": 14,
     "metadata": {},
     "output_type": "execute_result"
    }
   ],
   "source": [
    "data.duplicated().sum()"
   ]
  },
  {
   "cell_type": "code",
   "execution_count": 15,
   "id": "8575fe05",
   "metadata": {
    "deletable": false,
    "id": "8575fe05"
   },
   "outputs": [],
   "source": [
    "data = data.drop_duplicates()"
   ]
  },
  {
   "cell_type": "markdown",
   "id": "9771a76c",
   "metadata": {
    "deletable": false,
    "id": "9771a76c"
   },
   "source": [
    "**Задание 15. Обработайте неявные дубликаты в столбце `education`. В этом столбце есть одни и те же значения, но записанные по-разному: с использованием заглавных и строчных букв. Приведите их к нижнему регистру. Проверьте остальные столбцы.**"
   ]
  },
  {
   "cell_type": "code",
   "execution_count": 16,
   "id": "a9f8e2bf",
   "metadata": {
    "deletable": false,
    "id": "a9f8e2bf"
   },
   "outputs": [],
   "source": [
    "data['education'] = data['education'].str.lower()"
   ]
  },
  {
   "cell_type": "markdown",
   "id": "9904cf55",
   "metadata": {
    "deletable": false,
    "id": "9904cf55"
   },
   "source": [
    "### Категоризация данных"
   ]
  },
  {
   "cell_type": "markdown",
   "id": "72fcc8a2",
   "metadata": {
    "deletable": false,
    "id": "72fcc8a2"
   },
   "source": [
    "**Задание 16. На основании диапазонов, указанных ниже, создайте в датафрейме `data` столбец `total_income_category` с категориями:**\n",
    "\n",
    "- 0–30000 — `'E'`;\n",
    "- 30001–50000 — `'D'`;\n",
    "- 50001–200000 — `'C'`;\n",
    "- 200001–1000000 — `'B'`;\n",
    "- 1000001 и выше — `'A'`.\n",
    "\n",
    "\n",
    "**Например, кредитополучателю с доходом 25000 нужно назначить категорию `'E'`, а клиенту, получающему 235000, — `'B'`. Используйте собственную функцию с именем `categorize_income()` и метод `apply()`.**"
   ]
  },
  {
   "cell_type": "code",
   "execution_count": 17,
   "id": "e1771346",
   "metadata": {
    "deletable": false,
    "id": "e1771346"
   },
   "outputs": [],
   "source": [
    "def categorize_income(income):\n",
    "    try:\n",
    "        if 0 <= income <= 30000:\n",
    "            return 'E'\n",
    "        elif 30001 <= income <= 50000:\n",
    "            return 'D'\n",
    "        elif 50001 <= income <= 200000:\n",
    "            return 'C'\n",
    "        elif 200001 <= income <= 1000000:\n",
    "            return 'B'\n",
    "        elif income >= 1000001:\n",
    "            return 'A'\n",
    "    except:\n",
    "        pass"
   ]
  },
  {
   "cell_type": "code",
   "execution_count": 18,
   "id": "d5f3586d",
   "metadata": {
    "deletable": false,
    "id": "d5f3586d"
   },
   "outputs": [],
   "source": [
    "data['total_income_category'] = data['total_income'].apply(categorize_income)"
   ]
  },
  {
   "cell_type": "markdown",
   "id": "dde49b5c",
   "metadata": {
    "deletable": false,
    "id": "dde49b5c"
   },
   "source": [
    "**Задание 17. Выведите на экран перечень уникальных целей взятия кредита из столбца `purpose`.**"
   ]
  },
  {
   "cell_type": "code",
   "execution_count": 19,
   "id": "f67ce9b3",
   "metadata": {
    "deletable": false,
    "id": "f67ce9b3",
    "outputId": "673c12d9-7d7e-4ae0-9812-c622c89dd244"
   },
   "outputs": [
    {
     "data": {
      "text/plain": [
       "array(['покупка жилья', 'приобретение автомобиля',\n",
       "       'дополнительное образование', 'сыграть свадьбу',\n",
       "       'операции с жильем', 'образование', 'на проведение свадьбы',\n",
       "       'покупка жилья для семьи', 'покупка недвижимости',\n",
       "       'покупка коммерческой недвижимости', 'покупка жилой недвижимости',\n",
       "       'строительство собственной недвижимости', 'недвижимость',\n",
       "       'строительство недвижимости', 'на покупку подержанного автомобиля',\n",
       "       'на покупку своего автомобиля',\n",
       "       'операции с коммерческой недвижимостью',\n",
       "       'строительство жилой недвижимости', 'жилье',\n",
       "       'операции со своей недвижимостью', 'автомобили',\n",
       "       'заняться образованием', 'сделка с подержанным автомобилем',\n",
       "       'получение образования', 'автомобиль', 'свадьба',\n",
       "       'получение дополнительного образования', 'покупка своего жилья',\n",
       "       'операции с недвижимостью', 'получение высшего образования',\n",
       "       'свой автомобиль', 'сделка с автомобилем',\n",
       "       'профильное образование', 'высшее образование',\n",
       "       'покупка жилья для сдачи', 'на покупку автомобиля', 'ремонт жилью',\n",
       "       'заняться высшим образованием'], dtype=object)"
      ]
     },
     "execution_count": 19,
     "metadata": {},
     "output_type": "execute_result"
    }
   ],
   "source": [
    "data['purpose'].unique()"
   ]
  },
  {
   "cell_type": "markdown",
   "id": "85d0aef0",
   "metadata": {
    "deletable": false,
    "id": "85d0aef0"
   },
   "source": [
    "**Задание 18. Создайте функцию, которая на основании данных из столбца `purpose` сформирует новый столбец `purpose_category`, в который войдут следующие категории:**\n",
    "\n",
    "- `'операции с автомобилем'`,\n",
    "- `'операции с недвижимостью'`,\n",
    "- `'проведение свадьбы'`,\n",
    "- `'получение образования'`.\n",
    "\n",
    "**Например, если в столбце `purpose` находится подстрока `'на покупку автомобиля'`, то в столбце `purpose_category` должна появиться строка `'операции с автомобилем'`.**\n",
    "\n",
    "**Используйте собственную функцию с именем `categorize_purpose()` и метод `apply()`. Изучите данные в столбце `purpose` и определите, какие подстроки помогут вам правильно определить категорию.**"
   ]
  },
  {
   "cell_type": "code",
   "execution_count": 20,
   "id": "e149fab4",
   "metadata": {
    "deletable": false,
    "id": "e149fab4"
   },
   "outputs": [],
   "source": [
    "def categorize_purpose(row):\n",
    "    try:\n",
    "        if 'автом' in row:\n",
    "            return 'операции с автомобилем'\n",
    "        elif 'жил' in row or 'недвиж' in row:\n",
    "            return 'операции с недвижимостью'\n",
    "        elif 'свад' in row:\n",
    "            return 'проведение свадьбы'\n",
    "        elif 'образов' in row:\n",
    "            return 'получение образования'\n",
    "    except:\n",
    "        return 'нет категории'"
   ]
  },
  {
   "cell_type": "code",
   "execution_count": 21,
   "id": "bf36e69b",
   "metadata": {
    "deletable": false,
    "id": "bf36e69b"
   },
   "outputs": [],
   "source": [
    "data['purpose_category'] = data['purpose'].apply(categorize_purpose)"
   ]
  },
  {
   "cell_type": "markdown",
   "id": "09b242bf",
   "metadata": {
    "deletable": false,
    "editable": false,
    "id": "09b242bf"
   },
   "source": [
    "## Исследуйте данные и ответьте на вопросы"
   ]
  },
  {
   "cell_type": "markdown",
   "id": "c5d66278",
   "metadata": {
    "deletable": false,
    "editable": false,
    "id": "c5d66278"
   },
   "source": [
    "**Задание 19. Есть ли зависимость между количеством детей и возвратом кредита в срок?**"
   ]
  },
  {
   "cell_type": "code",
   "execution_count": 22,
   "id": "6816e5dd",
   "metadata": {},
   "outputs": [],
   "source": [
    "import seaborn as se#библиотека визуализации"
   ]
  },
  {
   "cell_type": "code",
   "execution_count": 23,
   "id": "3574139e",
   "metadata": {},
   "outputs": [
    {
     "data": {
      "text/html": [
       "<div>\n",
       "<style scoped>\n",
       "    .dataframe tbody tr th:only-of-type {\n",
       "        vertical-align: middle;\n",
       "    }\n",
       "\n",
       "    .dataframe tbody tr th {\n",
       "        vertical-align: top;\n",
       "    }\n",
       "\n",
       "    .dataframe thead tr th {\n",
       "        text-align: left;\n",
       "    }\n",
       "\n",
       "    .dataframe thead tr:last-of-type th {\n",
       "        text-align: right;\n",
       "    }\n",
       "</style>\n",
       "<table border=\"1\" class=\"dataframe\">\n",
       "  <thead>\n",
       "    <tr>\n",
       "      <th></th>\n",
       "      <th>count</th>\n",
       "      <th>sum</th>\n",
       "      <th>share_deft_group</th>\n",
       "      <th>share_deft_sum</th>\n",
       "    </tr>\n",
       "    <tr>\n",
       "      <th></th>\n",
       "      <th>debt</th>\n",
       "      <th>debt</th>\n",
       "      <th></th>\n",
       "      <th></th>\n",
       "    </tr>\n",
       "    <tr>\n",
       "      <th>children</th>\n",
       "      <th></th>\n",
       "      <th></th>\n",
       "      <th></th>\n",
       "      <th></th>\n",
       "    </tr>\n",
       "  </thead>\n",
       "  <tbody>\n",
       "    <tr>\n",
       "      <th>0</th>\n",
       "      <td>14107</td>\n",
       "      <td>1063</td>\n",
       "      <td>7.535266</td>\n",
       "      <td>66.081132</td>\n",
       "    </tr>\n",
       "    <tr>\n",
       "      <th>1</th>\n",
       "      <td>4809</td>\n",
       "      <td>444</td>\n",
       "      <td>9.232689</td>\n",
       "      <td>22.526700</td>\n",
       "    </tr>\n",
       "    <tr>\n",
       "      <th>2</th>\n",
       "      <td>2052</td>\n",
       "      <td>194</td>\n",
       "      <td>9.454191</td>\n",
       "      <td>9.612142</td>\n",
       "    </tr>\n",
       "    <tr>\n",
       "      <th>3</th>\n",
       "      <td>330</td>\n",
       "      <td>27</td>\n",
       "      <td>8.181818</td>\n",
       "      <td>1.545812</td>\n",
       "    </tr>\n",
       "    <tr>\n",
       "      <th>4</th>\n",
       "      <td>41</td>\n",
       "      <td>4</td>\n",
       "      <td>9.756098</td>\n",
       "      <td>0.192055</td>\n",
       "    </tr>\n",
       "    <tr>\n",
       "      <th>5</th>\n",
       "      <td>9</td>\n",
       "      <td>0</td>\n",
       "      <td>0.000000</td>\n",
       "      <td>0.042159</td>\n",
       "    </tr>\n",
       "  </tbody>\n",
       "</table>\n",
       "</div>"
      ],
      "text/plain": [
       "          count   sum share_deft_group share_deft_sum\n",
       "           debt  debt                                \n",
       "children                                             \n",
       "0         14107  1063         7.535266      66.081132\n",
       "1          4809   444         9.232689      22.526700\n",
       "2          2052   194         9.454191       9.612142\n",
       "3           330    27         8.181818       1.545812\n",
       "4            41     4         9.756098       0.192055\n",
       "5             9     0         0.000000       0.042159"
      ]
     },
     "execution_count": 23,
     "metadata": {},
     "output_type": "execute_result"
    }
   ],
   "source": [
    "dataf = data.pivot_table(index = 'children',values = 'debt', aggfunc = ['count','sum'])# сводная таблица по количеству детей с количеством кредиторов и должнеков среди них\n",
    "dataf['share_deft_group'] = dataf['sum'] / dataf['count']*100# доля должников по количеству детей в %\n",
    "dataf['share_deft_sum'] = dataf['count'] / dataf['count'].sum()*100#доля от общего числа кредиторов в %\n",
    "dataf"
   ]
  },
  {
   "cell_type": "code",
   "execution_count": 24,
   "id": "ea30db5f",
   "metadata": {},
   "outputs": [
    {
     "data": {
      "text/plain": [
       "<AxesSubplot:xlabel='children', ylabel='share_deft_group'>"
      ]
     },
     "execution_count": 24,
     "metadata": {},
     "output_type": "execute_result"
    },
    {
     "data": {
      "image/png": "[encoded data removed]",
      "text/plain": [
       "<Figure size 432x288 with 1 Axes>"
      ]
     },
     "metadata": {
      "needs_background": "light"
     },
     "output_type": "display_data"
    }
   ],
   "source": [
    "se.barplot( x = dataf.index, y = dataf['share_deft_group'], color='blue')\n"
   ]
  },
  {
   "cell_type": "markdown",
   "id": "3a6b99ec",
   "metadata": {
    "deletable": false,
    "id": "3a6b99ec"
   },
   "source": [
    "**Вывод:** \n",
    "На основании представленных данных видно, что есть зависимость между наличием задолженности и наличием детей у кредитора  - бездетные кредиторы имеют меньше задолженностей, чем кредиторы с детьми, в среднем на ~1.6%.\n",
    "При этом возвращаемость кредитов от кредиторов с детьми не имеет прямой зависимости от количества детей. К тому же, в выборке данных, семьи с более чем 3мя детьми, представлены незначительной долей, что не позволяет делать обоснованных выводов, а количество должников в семьях с одним и двумя детьми отличается не существенно, хотя и присутствует рост числа должников у кредиторов с двумя детьми по сравлению с кредиторами с одним ребенком."
   ]
  },
  {
   "cell_type": "markdown",
   "id": "97be82ca",
   "metadata": {
    "deletable": false,
    "editable": false,
    "id": "97be82ca"
   },
   "source": [
    "**Задание 20. Есть ли зависимость между семейным положением и возвратом кредита в срок?**"
   ]
  },
  {
   "cell_type": "code",
   "execution_count": 25,
   "id": "dc3f7ee8",
   "metadata": {
    "id": "dc3f7ee8"
   },
   "outputs": [
    {
     "data": {
      "text/html": [
       "<div>\n",
       "<style scoped>\n",
       "    .dataframe tbody tr th:only-of-type {\n",
       "        vertical-align: middle;\n",
       "    }\n",
       "\n",
       "    .dataframe tbody tr th {\n",
       "        vertical-align: top;\n",
       "    }\n",
       "\n",
       "    .dataframe thead tr th {\n",
       "        text-align: left;\n",
       "    }\n",
       "\n",
       "    .dataframe thead tr:last-of-type th {\n",
       "        text-align: right;\n",
       "    }\n",
       "</style>\n",
       "<table border=\"1\" class=\"dataframe\">\n",
       "  <thead>\n",
       "    <tr>\n",
       "      <th></th>\n",
       "      <th>count</th>\n",
       "      <th>sum</th>\n",
       "      <th>share_deft_group</th>\n",
       "      <th>share_deft_sum</th>\n",
       "    </tr>\n",
       "    <tr>\n",
       "      <th></th>\n",
       "      <th>debt</th>\n",
       "      <th>debt</th>\n",
       "      <th></th>\n",
       "      <th></th>\n",
       "    </tr>\n",
       "    <tr>\n",
       "      <th>family_status</th>\n",
       "      <th></th>\n",
       "      <th></th>\n",
       "      <th></th>\n",
       "      <th></th>\n",
       "    </tr>\n",
       "  </thead>\n",
       "  <tbody>\n",
       "    <tr>\n",
       "      <th>Не женат / не замужем</th>\n",
       "      <td>2796</td>\n",
       "      <td>273</td>\n",
       "      <td>9.763948</td>\n",
       "      <td>13.097246</td>\n",
       "    </tr>\n",
       "    <tr>\n",
       "      <th>гражданский брак</th>\n",
       "      <td>4146</td>\n",
       "      <td>385</td>\n",
       "      <td>9.286059</td>\n",
       "      <td>19.421023</td>\n",
       "    </tr>\n",
       "    <tr>\n",
       "      <th>женат / замужем</th>\n",
       "      <td>12266</td>\n",
       "      <td>927</td>\n",
       "      <td>7.557476</td>\n",
       "      <td>57.457373</td>\n",
       "    </tr>\n",
       "    <tr>\n",
       "      <th>в разводе</th>\n",
       "      <td>1189</td>\n",
       "      <td>84</td>\n",
       "      <td>7.064760</td>\n",
       "      <td>5.569608</td>\n",
       "    </tr>\n",
       "    <tr>\n",
       "      <th>вдовец / вдова</th>\n",
       "      <td>951</td>\n",
       "      <td>63</td>\n",
       "      <td>6.624606</td>\n",
       "      <td>4.454750</td>\n",
       "    </tr>\n",
       "  </tbody>\n",
       "</table>\n",
       "</div>"
      ],
      "text/plain": [
       "                       count  sum share_deft_group share_deft_sum\n",
       "                        debt debt                                \n",
       "family_status                                                    \n",
       "Не женат / не замужем   2796  273         9.763948      13.097246\n",
       "гражданский брак        4146  385         9.286059      19.421023\n",
       "женат / замужем        12266  927         7.557476      57.457373\n",
       "в разводе               1189   84         7.064760       5.569608\n",
       "вдовец / вдова           951   63         6.624606       4.454750"
      ]
     },
     "execution_count": 25,
     "metadata": {},
     "output_type": "execute_result"
    }
   ],
   "source": [
    "datas = data.pivot_table(index = 'family_status',values = 'debt', aggfunc = ['count','sum'])# сводная таблица по семейному положению с количеством кредиторов и должнеков среди них\n",
    "datas['share_deft_group'] = datas['sum'] / datas['count']*100# доля должников по семейному положению в %\n",
    "datas['share_deft_sum'] = datas['count'] / datas['count'].sum()*100#доля от общего числа кредиторов в %\n",
    "datas = datas.sort_values(by='share_deft_group', ascending=False)# Ваш код будет здесь. Вы можете создавать новые ячейки.\n",
    "datas"
   ]
  },
  {
   "cell_type": "code",
   "execution_count": 26,
   "id": "0cac4c5f",
   "metadata": {},
   "outputs": [
    {
     "data": {
      "text/plain": [
       "<AxesSubplot:xlabel='share_deft_group', ylabel='family_status'>"
      ]
     },
     "execution_count": 26,
     "metadata": {},
     "output_type": "execute_result"
    },
    {
     "data": {
      "image/png": "[encoded data removed]",
      "text/plain": [
       "<Figure size 432x288 with 1 Axes>"
      ]
     },
     "metadata": {
      "needs_background": "light"
     },
     "output_type": "display_data"
    }
   ],
   "source": [
    "se.barplot( y = datas.index, x = datas['share_deft_group'], color='blue')"
   ]
  },
  {
   "cell_type": "markdown",
   "id": "1cef7837",
   "metadata": {
    "deletable": false,
    "id": "1cef7837"
   },
   "source": [
    "**Вывод:** \n",
    "На основании данных видно прямую закономерность на возвращаемость кридитов от семейного положения кредитора -  Незамужние/неженатые кредиторы и кредиторы в гражданском браке чаще являются должниками, чем официально женатые/замужние или кредиторы в разводе, вдовы/вдовцы."
   ]
  },
  {
   "cell_type": "markdown",
   "id": "1e8b2fca",
   "metadata": {
    "deletable": false,
    "editable": false,
    "id": "1e8b2fca"
   },
   "source": [
    "**Задание 21. Есть ли зависимость между уровнем дохода и возвратом кредита в срок?**"
   ]
  },
  {
   "cell_type": "code",
   "execution_count": 27,
   "id": "cd7e3720",
   "metadata": {
    "id": "cd7e3720"
   },
   "outputs": [
    {
     "data": {
      "text/html": [
       "<div>\n",
       "<style scoped>\n",
       "    .dataframe tbody tr th:only-of-type {\n",
       "        vertical-align: middle;\n",
       "    }\n",
       "\n",
       "    .dataframe tbody tr th {\n",
       "        vertical-align: top;\n",
       "    }\n",
       "\n",
       "    .dataframe thead tr th {\n",
       "        text-align: left;\n",
       "    }\n",
       "\n",
       "    .dataframe thead tr:last-of-type th {\n",
       "        text-align: right;\n",
       "    }\n",
       "</style>\n",
       "<table border=\"1\" class=\"dataframe\">\n",
       "  <thead>\n",
       "    <tr>\n",
       "      <th></th>\n",
       "      <th>count</th>\n",
       "      <th>sum</th>\n",
       "      <th>share_deft_group</th>\n",
       "      <th>share_deft_sum</th>\n",
       "    </tr>\n",
       "    <tr>\n",
       "      <th></th>\n",
       "      <th>debt</th>\n",
       "      <th>debt</th>\n",
       "      <th></th>\n",
       "      <th></th>\n",
       "    </tr>\n",
       "    <tr>\n",
       "      <th>total_income_category</th>\n",
       "      <th></th>\n",
       "      <th></th>\n",
       "      <th></th>\n",
       "      <th></th>\n",
       "    </tr>\n",
       "  </thead>\n",
       "  <tbody>\n",
       "    <tr>\n",
       "      <th>A</th>\n",
       "      <td>25</td>\n",
       "      <td>2</td>\n",
       "      <td>8.000000</td>\n",
       "      <td>0.117107</td>\n",
       "    </tr>\n",
       "    <tr>\n",
       "      <th>B</th>\n",
       "      <td>5014</td>\n",
       "      <td>354</td>\n",
       "      <td>7.060231</td>\n",
       "      <td>23.486978</td>\n",
       "    </tr>\n",
       "    <tr>\n",
       "      <th>C</th>\n",
       "      <td>15938</td>\n",
       "      <td>1353</td>\n",
       "      <td>8.489145</td>\n",
       "      <td>74.658048</td>\n",
       "    </tr>\n",
       "    <tr>\n",
       "      <th>D</th>\n",
       "      <td>349</td>\n",
       "      <td>21</td>\n",
       "      <td>6.017192</td>\n",
       "      <td>1.634814</td>\n",
       "    </tr>\n",
       "    <tr>\n",
       "      <th>E</th>\n",
       "      <td>22</td>\n",
       "      <td>2</td>\n",
       "      <td>9.090909</td>\n",
       "      <td>0.103054</td>\n",
       "    </tr>\n",
       "  </tbody>\n",
       "</table>\n",
       "</div>"
      ],
      "text/plain": [
       "                       count   sum share_deft_group share_deft_sum\n",
       "                        debt  debt                                \n",
       "total_income_category                                             \n",
       "A                         25     2         8.000000       0.117107\n",
       "B                       5014   354         7.060231      23.486978\n",
       "C                      15938  1353         8.489145      74.658048\n",
       "D                        349    21         6.017192       1.634814\n",
       "E                         22     2         9.090909       0.103054"
      ]
     },
     "execution_count": 27,
     "metadata": {},
     "output_type": "execute_result"
    }
   ],
   "source": [
    "datat = data.pivot_table(index = 'total_income_category',values = 'debt', aggfunc = ['count','sum'])# сводная таблица по уровню дохода с количеством кредиторов и должнеков среди них\n",
    "datat['share_deft_group'] = datat['sum'] / datat['count']*100# доля должников по доходу в %\n",
    "datat['share_deft_sum'] = datat['count'] / datat['count'].sum()*100#доля от общего числа кредиторов в %\n",
    "datat# "
   ]
  },
  {
   "cell_type": "code",
   "execution_count": 28,
   "id": "61165cbc",
   "metadata": {},
   "outputs": [
    {
     "data": {
      "text/plain": [
       "<AxesSubplot:xlabel='share_deft_group', ylabel='total_income_category'>"
      ]
     },
     "execution_count": 28,
     "metadata": {},
     "output_type": "execute_result"
    },
    {
     "data": {
      "image/png": "[encoded data removed]",
      "text/plain": [
       "<Figure size 432x288 with 1 Axes>"
      ]
     },
     "metadata": {
      "needs_background": "light"
     },
     "output_type": "display_data"
    }
   ],
   "source": [
    "se.barplot( y = datat.index, x = datat['share_deft_group'], color='blue')"
   ]
  },
  {
   "cell_type": "markdown",
   "id": "4fad1271",
   "metadata": {
    "deletable": false,
    "id": "e8593def"
   },
   "source": [
    "**Вывод:** \n",
    "Основная доля кредитов берется людьми в доходной группе B (23,5%) и C (74,7%), остальные группы представлены незначительно, поэтому обобщить выводы по всем доходным группам невозможно. Однако, если сравнивать только категории В и С, то видно что в  более высокой доходной группе В кредиторов с задолженностью меньше на 1,5% чем в С."
   ]
  },
  {
   "cell_type": "markdown",
   "id": "99ecbd1f",
   "metadata": {
    "deletable": false,
    "editable": false,
    "id": "99ecbd1f"
   },
   "source": [
    "**Задание 22. Как разные цели кредита влияют на его возврат в срок?**"
   ]
  },
  {
   "cell_type": "code",
   "execution_count": 29,
   "id": "2b687290",
   "metadata": {
    "id": "2b687290"
   },
   "outputs": [
    {
     "data": {
      "text/html": [
       "<div>\n",
       "<style scoped>\n",
       "    .dataframe tbody tr th:only-of-type {\n",
       "        vertical-align: middle;\n",
       "    }\n",
       "\n",
       "    .dataframe tbody tr th {\n",
       "        vertical-align: top;\n",
       "    }\n",
       "\n",
       "    .dataframe thead tr th {\n",
       "        text-align: left;\n",
       "    }\n",
       "\n",
       "    .dataframe thead tr:last-of-type th {\n",
       "        text-align: right;\n",
       "    }\n",
       "</style>\n",
       "<table border=\"1\" class=\"dataframe\">\n",
       "  <thead>\n",
       "    <tr>\n",
       "      <th></th>\n",
       "      <th>count</th>\n",
       "      <th>sum</th>\n",
       "      <th>share_deft_group</th>\n",
       "      <th>share_deft_sum</th>\n",
       "    </tr>\n",
       "    <tr>\n",
       "      <th></th>\n",
       "      <th>debt</th>\n",
       "      <th>debt</th>\n",
       "      <th></th>\n",
       "      <th></th>\n",
       "    </tr>\n",
       "    <tr>\n",
       "      <th>purpose_category</th>\n",
       "      <th></th>\n",
       "      <th></th>\n",
       "      <th></th>\n",
       "      <th></th>\n",
       "    </tr>\n",
       "  </thead>\n",
       "  <tbody>\n",
       "    <tr>\n",
       "      <th>операции с автомобилем</th>\n",
       "      <td>4281</td>\n",
       "      <td>400</td>\n",
       "      <td>9.343611</td>\n",
       "      <td>20.053401</td>\n",
       "    </tr>\n",
       "    <tr>\n",
       "      <th>получение образования</th>\n",
       "      <td>3989</td>\n",
       "      <td>369</td>\n",
       "      <td>9.250439</td>\n",
       "      <td>18.685591</td>\n",
       "    </tr>\n",
       "    <tr>\n",
       "      <th>проведение свадьбы</th>\n",
       "      <td>2324</td>\n",
       "      <td>183</td>\n",
       "      <td>7.874355</td>\n",
       "      <td>10.886266</td>\n",
       "    </tr>\n",
       "    <tr>\n",
       "      <th>операции с недвижимостью</th>\n",
       "      <td>10754</td>\n",
       "      <td>780</td>\n",
       "      <td>7.253115</td>\n",
       "      <td>50.374742</td>\n",
       "    </tr>\n",
       "  </tbody>\n",
       "</table>\n",
       "</div>"
      ],
      "text/plain": [
       "                          count  sum share_deft_group share_deft_sum\n",
       "                           debt debt                                \n",
       "purpose_category                                                    \n",
       "операции с автомобилем     4281  400         9.343611      20.053401\n",
       "получение образования      3989  369         9.250439      18.685591\n",
       "проведение свадьбы         2324  183         7.874355      10.886266\n",
       "операции с недвижимостью  10754  780         7.253115      50.374742"
      ]
     },
     "execution_count": 29,
     "metadata": {},
     "output_type": "execute_result"
    }
   ],
   "source": [
    "datap = data.pivot_table(index = 'purpose_category',values = 'debt', aggfunc = ['count','sum'])# сводная таблица по цели кридита с количеством кредиторов и должнеков среди них\n",
    "datap['share_deft_group'] = datap['sum'] / datap['count']*100# доля должников по цели кридита в %\n",
    "datap['share_deft_sum'] = datap['count'] / datap['count'].sum()*100#доля от общего числа кредиторов в %\n",
    "datap = datap.sort_values(by='share_deft_group', ascending=False)\n",
    "datap"
   ]
  },
  {
   "cell_type": "code",
   "execution_count": 30,
   "id": "f8333e04",
   "metadata": {},
   "outputs": [
    {
     "data": {
      "text/plain": [
       "<AxesSubplot:xlabel='share_deft_group', ylabel='purpose_category'>"
      ]
     },
     "execution_count": 30,
     "metadata": {},
     "output_type": "execute_result"
    },
    {
     "data": {
      "image/png": "[encoded data removed]",
      "text/plain": [
       "<Figure size 432x288 with 1 Axes>"
      ]
     },
     "metadata": {
      "needs_background": "light"
     },
     "output_type": "display_data"
    }
   ],
   "source": [
    "se.barplot( y = datap.index, x = datap['share_deft_group'], color='blue')"
   ]
  },
  {
   "cell_type": "markdown",
   "id": "b4bb2ce6",
   "metadata": {
    "deletable": false,
    "id": "b4bb2ce6"
   },
   "source": [
    "**Вывод:** \n",
    "Кредиты на 'операции с автомобилем' и 'получение образования' оказались схожими по доли должников (~9.3%), однако, наибольшая кредитная группа 'операции с недвижимостью' (50% от общего числа кредитов) оказалась с наименьшей долей невозвратов (7.3%)"
   ]
  },
  {
   "cell_type": "markdown",
   "id": "09c3ac4c",
   "metadata": {
    "deletable": false,
    "editable": false,
    "id": "09c3ac4c"
   },
   "source": [
    "**Задание 23. Приведите возможные причины появления пропусков в исходных данных.**"
   ]
  },
  {
   "cell_type": "markdown",
   "id": "9da2ceda",
   "metadata": {
    "deletable": false,
    "id": "9da2ceda"
   },
   "source": [
    "*Ответ:* \n",
    "Наиболее распространенной причиной пропусков и аномалий в исходных данных является человеческий фактор, одним из решений может быть уменьшение ручного ввода - для этого можно использовать прописанные категори. \n",
    "Также пропуски в данных могут быть из-за ошибок при выгрузки данных из БД, но такие пропуски как правило имеют явные закономерности - например, отсутствие значений по всему столбцу или значений с одним общим признаком"
   ]
  },
  {
   "cell_type": "markdown",
   "id": "7b0487d6",
   "metadata": {
    "deletable": false,
    "editable": false,
    "id": "7b0487d6"
   },
   "source": [
    "**Задание 24. Объясните, почему заполнить пропуски медианным значением — лучшее решение для количественных переменных.**"
   ]
  },
  {
   "cell_type": "markdown",
   "id": "7ecf2b8e",
   "metadata": {
    "deletable": false,
    "id": "7ecf2b8e"
   },
   "source": [
    "*Ответ:* \n",
    "Количественные данные лучше заменять на медианные значения, так как медиана исключает аномальные значения, которые могут повлиять на расчет среднего."
   ]
  },
  {
   "cell_type": "code",
   "execution_count": 31,
   "id": "55875ff5",
   "metadata": {},
   "outputs": [
    {
     "data": {
      "text/html": [
       "<div>\n",
       "<style scoped>\n",
       "    .dataframe tbody tr th:only-of-type {\n",
       "        vertical-align: middle;\n",
       "    }\n",
       "\n",
       "    .dataframe tbody tr th {\n",
       "        vertical-align: top;\n",
       "    }\n",
       "\n",
       "    .dataframe thead tr th {\n",
       "        text-align: left;\n",
       "    }\n",
       "\n",
       "    .dataframe thead tr:last-of-type th {\n",
       "        text-align: right;\n",
       "    }\n",
       "</style>\n",
       "<table border=\"1\" class=\"dataframe\">\n",
       "  <thead>\n",
       "    <tr>\n",
       "      <th></th>\n",
       "      <th></th>\n",
       "      <th></th>\n",
       "      <th></th>\n",
       "      <th>count</th>\n",
       "      <th>sum</th>\n",
       "      <th>share_deft_group</th>\n",
       "      <th>share_deft_sum</th>\n",
       "    </tr>\n",
       "    <tr>\n",
       "      <th></th>\n",
       "      <th></th>\n",
       "      <th></th>\n",
       "      <th></th>\n",
       "      <th>debt</th>\n",
       "      <th>debt</th>\n",
       "      <th></th>\n",
       "      <th></th>\n",
       "    </tr>\n",
       "    <tr>\n",
       "      <th>family_status</th>\n",
       "      <th>purpose_category</th>\n",
       "      <th>total_income_category</th>\n",
       "      <th>children</th>\n",
       "      <th></th>\n",
       "      <th></th>\n",
       "      <th></th>\n",
       "      <th></th>\n",
       "    </tr>\n",
       "  </thead>\n",
       "  <tbody>\n",
       "    <tr>\n",
       "      <th rowspan=\"4\" valign=\"top\">женат / замужем</th>\n",
       "      <th rowspan=\"2\" valign=\"top\">операции с недвижимостью</th>\n",
       "      <th rowspan=\"2\" valign=\"top\">C</th>\n",
       "      <th>0</th>\n",
       "      <td>3145</td>\n",
       "      <td>212</td>\n",
       "      <td>6.740859</td>\n",
       "      <td>14.732059</td>\n",
       "    </tr>\n",
       "    <tr>\n",
       "      <th>1</th>\n",
       "      <td>1255</td>\n",
       "      <td>91</td>\n",
       "      <td>7.250996</td>\n",
       "      <td>5.878771</td>\n",
       "    </tr>\n",
       "    <tr>\n",
       "      <th>операции с автомобилем</th>\n",
       "      <th>C</th>\n",
       "      <th>0</th>\n",
       "      <td>1233</td>\n",
       "      <td>86</td>\n",
       "      <td>6.974858</td>\n",
       "      <td>5.775717</td>\n",
       "    </tr>\n",
       "    <tr>\n",
       "      <th>получение образования</th>\n",
       "      <th>C</th>\n",
       "      <th>0</th>\n",
       "      <td>1183</td>\n",
       "      <td>97</td>\n",
       "      <td>8.199493</td>\n",
       "      <td>5.541503</td>\n",
       "    </tr>\n",
       "    <tr>\n",
       "      <th>гражданский брак</th>\n",
       "      <th>проведение свадьбы</th>\n",
       "      <th>C</th>\n",
       "      <th>0</th>\n",
       "      <td>1163</td>\n",
       "      <td>92</td>\n",
       "      <td>7.910576</td>\n",
       "      <td>5.447817</td>\n",
       "    </tr>\n",
       "    <tr>\n",
       "      <th>женат / замужем</th>\n",
       "      <th>операции с недвижимостью</th>\n",
       "      <th>B</th>\n",
       "      <th>0</th>\n",
       "      <td>999</td>\n",
       "      <td>62</td>\n",
       "      <td>6.206206</td>\n",
       "      <td>4.679595</td>\n",
       "    </tr>\n",
       "    <tr>\n",
       "      <th>Не женат / не замужем</th>\n",
       "      <th>операции с недвижимостью</th>\n",
       "      <th>C</th>\n",
       "      <th>0</th>\n",
       "      <td>955</td>\n",
       "      <td>71</td>\n",
       "      <td>7.434555</td>\n",
       "      <td>4.473487</td>\n",
       "    </tr>\n",
       "    <tr>\n",
       "      <th>женат / замужем</th>\n",
       "      <th>операции с недвижимостью</th>\n",
       "      <th>C</th>\n",
       "      <th>2</th>\n",
       "      <td>633</td>\n",
       "      <td>58</td>\n",
       "      <td>9.162717</td>\n",
       "      <td>2.965149</td>\n",
       "    </tr>\n",
       "    <tr>\n",
       "      <th>гражданский брак</th>\n",
       "      <th>операции с недвижимостью</th>\n",
       "      <th>C</th>\n",
       "      <th>0</th>\n",
       "      <td>492</td>\n",
       "      <td>42</td>\n",
       "      <td>8.536585</td>\n",
       "      <td>2.304666</td>\n",
       "    </tr>\n",
       "    <tr>\n",
       "      <th>женат / замужем</th>\n",
       "      <th>операции с автомобилем</th>\n",
       "      <th>C</th>\n",
       "      <th>1</th>\n",
       "      <td>487</td>\n",
       "      <td>51</td>\n",
       "      <td>10.472279</td>\n",
       "      <td>2.281244</td>\n",
       "    </tr>\n",
       "  </tbody>\n",
       "</table>\n",
       "</div>"
      ],
      "text/plain": [
       "                                                                              count  \\\n",
       "                                                                               debt   \n",
       "family_status         purpose_category         total_income_category children         \n",
       "женат / замужем       операции с недвижимостью C                     0         3145   \n",
       "                                                                     1         1255   \n",
       "                      операции с автомобилем   C                     0         1233   \n",
       "                      получение образования    C                     0         1183   \n",
       "гражданский брак      проведение свадьбы       C                     0         1163   \n",
       "женат / замужем       операции с недвижимостью B                     0          999   \n",
       "Не женат / не замужем операции с недвижимостью C                     0          955   \n",
       "женат / замужем       операции с недвижимостью C                     2          633   \n",
       "гражданский брак      операции с недвижимостью C                     0          492   \n",
       "женат / замужем       операции с автомобилем   C                     1          487   \n",
       "\n",
       "                                                                               sum  \\\n",
       "                                                                              debt   \n",
       "family_status         purpose_category         total_income_category children        \n",
       "женат / замужем       операции с недвижимостью C                     0         212   \n",
       "                                                                     1          91   \n",
       "                      операции с автомобилем   C                     0          86   \n",
       "                      получение образования    C                     0          97   \n",
       "гражданский брак      проведение свадьбы       C                     0          92   \n",
       "женат / замужем       операции с недвижимостью B                     0          62   \n",
       "Не женат / не замужем операции с недвижимостью C                     0          71   \n",
       "женат / замужем       операции с недвижимостью C                     2          58   \n",
       "гражданский брак      операции с недвижимостью C                     0          42   \n",
       "женат / замужем       операции с автомобилем   C                     1          51   \n",
       "\n",
       "                                                                              share_deft_group  \\\n",
       "                                                                                                 \n",
       "family_status         purpose_category         total_income_category children                    \n",
       "женат / замужем       операции с недвижимостью C                     0                6.740859   \n",
       "                                                                     1                7.250996   \n",
       "                      операции с автомобилем   C                     0                6.974858   \n",
       "                      получение образования    C                     0                8.199493   \n",
       "гражданский брак      проведение свадьбы       C                     0                7.910576   \n",
       "женат / замужем       операции с недвижимостью B                     0                6.206206   \n",
       "Не женат / не замужем операции с недвижимостью C                     0                7.434555   \n",
       "женат / замужем       операции с недвижимостью C                     2                9.162717   \n",
       "гражданский брак      операции с недвижимостью C                     0                8.536585   \n",
       "женат / замужем       операции с автомобилем   C                     1               10.472279   \n",
       "\n",
       "                                                                              share_deft_sum  \n",
       "                                                                                              \n",
       "family_status         purpose_category         total_income_category children                 \n",
       "женат / замужем       операции с недвижимостью C                     0             14.732059  \n",
       "                                                                     1              5.878771  \n",
       "                      операции с автомобилем   C                     0              5.775717  \n",
       "                      получение образования    C                     0              5.541503  \n",
       "гражданский брак      проведение свадьбы       C                     0              5.447817  \n",
       "женат / замужем       операции с недвижимостью B                     0              4.679595  \n",
       "Не женат / не замужем операции с недвижимостью C                     0              4.473487  \n",
       "женат / замужем       операции с недвижимостью C                     2              2.965149  \n",
       "гражданский брак      операции с недвижимостью C                     0              2.304666  \n",
       "женат / замужем       операции с автомобилем   C                     1              2.281244  "
      ]
     },
     "execution_count": 31,
     "metadata": {},
     "output_type": "execute_result"
    }
   ],
   "source": [
    "#сводная таблица по семейному положению, количеству детей, целям кредита и доходной группе\n",
    "datao = data.pivot_table(index = ['family_status','purpose_category','total_income_category','children'],values = 'debt', aggfunc = ['count','sum'])# сводная таблица по семейному положению с количеством кредиторов и должнеков среди них\n",
    "datao['share_deft_group'] = datao['sum'] / datao['count']*100# доля должников по группе в %\n",
    "datao['share_deft_sum'] = datao['count'] / datao['count'].sum()*100#доля от общего числа кредиторов в %\n",
    "datao = datao.sort_values(by='share_deft_sum', ascending=False)# Ваш код будет здесь. Вы можете создавать новые ячейки.\n",
    "datao.head(10)"
   ]
  },
  {
   "cell_type": "code",
   "execution_count": 32,
   "id": "e4394532",
   "metadata": {},
   "outputs": [
    {
     "data": {
      "text/plain": [
       "8.113172194116546"
      ]
     },
     "execution_count": 32,
     "metadata": {},
     "output_type": "execute_result"
    }
   ],
   "source": [
    "mean_share_deft_group = data['debt'].sum()/data['debt'].count()*100# доля должников от общего числа кредиторов в %\n",
    "mean_share_deft_group"
   ]
  },
  {
   "cell_type": "markdown",
   "id": "6db5255a",
   "metadata": {
    "deletable": false,
    "editable": false,
    "id": "6db5255a"
   },
   "source": [
    "## Общий вывод."
   ]
  },
  {
   "cell_type": "markdown",
   "id": "bad65432",
   "metadata": {
    "id": "bad65432"
   },
   "source": [
    "Делать выводы по возвращаемости кредитов на основании только одного параметра было бы неправильно, так как некоторые группы существенно отличаются по доли кредиторов в них от наиболее востребованных, но можно объединять параметры, чтобы получить более мелкие группы которые уже можно было бы сравнивать между собой. Так же для более качественных выводов следует добавить в данные суммы кредитов - чтобы более полно оценивать риски по должникам.\n",
    "Так на основании представленных данных можно сделать выводы:\n",
    "- что чаще всего берут кредиты люди в браке, на недвижимость, в средней доходной группе С, не имеющие детей и доля невозвратов в этой категории меньше средней на 1,3%\n",
    "- автокредиты и кредиты на образование более рискованные и невозвратные чем другие категории по целям кредита\n",
    "- кредит берут чаще всего на операции с недвижимостью\n",
    "- наибольшей популярностью кредиты пользуются в доходных группах B и С (доход от 50 000 до 1 000 000 рублей)кредиторы из категории С хуже возвращают кредиты\n",
    "- кредиты чаще берут бездетные люди в категории количество детей и семейные люди в категории семейное положение\n",
    "- кредиторы с детьми чаще имеют задолженность по кредиту, но количество детей не сильно влияет на долю должников.\n",
    "- люди в браке реже имеют долги по кредиту чем кредиторы в гражданском браке и незамужние в среднем на 2%"
   ]
  }
 ],
 "metadata": {
  "ExecuteTimeLog": [
   {
    "duration": 485,
    "start_time": "2022-07-13T15:26:56.196Z"
   },
   {
    "duration": 20,
    "start_time": "2022-07-13T15:27:08.548Z"
   },
   {
    "duration": 16,
    "start_time": "2022-07-13T15:27:18.100Z"
   },
   {
    "duration": 10,
    "start_time": "2022-07-13T15:27:21.036Z"
   },
   {
    "duration": 32,
    "start_time": "2022-07-13T15:27:22.903Z"
   },
   {
    "duration": 4,
    "start_time": "2022-07-13T15:27:25.060Z"
   },
   {
    "duration": 8,
    "start_time": "2022-07-13T15:27:27.011Z"
   },
   {
    "duration": 4,
    "start_time": "2022-07-13T15:27:29.584Z"
   },
   {
    "duration": 7,
    "start_time": "2022-07-13T15:27:31.050Z"
   },
   {
    "duration": 5,
    "start_time": "2022-07-13T15:27:32.409Z"
   },
   {
    "duration": 32,
    "start_time": "2022-07-13T15:27:34.660Z"
   },
   {
    "duration": 10,
    "start_time": "2022-07-13T15:27:36.173Z"
   },
   {
    "duration": 4,
    "start_time": "2022-07-13T15:27:38.311Z"
   },
   {
    "duration": 18,
    "start_time": "2022-07-13T15:27:40.338Z"
   },
   {
    "duration": 15,
    "start_time": "2022-07-13T15:27:41.186Z"
   },
   {
    "duration": 10,
    "start_time": "2022-07-13T15:27:43.650Z"
   },
   {
    "duration": 3,
    "start_time": "2022-07-13T15:27:46.014Z"
   },
   {
    "duration": 10,
    "start_time": "2022-07-13T15:27:46.779Z"
   },
   {
    "duration": 6,
    "start_time": "2022-07-13T15:27:48.287Z"
   },
   {
    "duration": 3,
    "start_time": "2022-07-13T15:27:49.885Z"
   },
   {
    "duration": 8,
    "start_time": "2022-07-13T15:27:50.565Z"
   },
   {
    "duration": 2,
    "start_time": "2022-07-13T15:27:52.560Z"
   },
   {
    "duration": 5,
    "start_time": "2022-07-13T15:31:03.439Z"
   },
   {
    "duration": 6,
    "start_time": "2022-07-13T15:33:51.789Z"
   },
   {
    "duration": 6,
    "start_time": "2022-07-13T15:34:22.395Z"
   },
   {
    "duration": 6,
    "start_time": "2022-07-13T15:34:32.863Z"
   },
   {
    "duration": 6,
    "start_time": "2022-07-13T15:35:24.148Z"
   },
   {
    "duration": 11,
    "start_time": "2022-07-13T15:36:54.691Z"
   },
   {
    "duration": 5,
    "start_time": "2022-07-13T15:40:45.064Z"
   },
   {
    "duration": 21,
    "start_time": "2022-07-13T15:40:58.515Z"
   },
   {
    "duration": 82,
    "start_time": "2022-07-13T15:50:01.648Z"
   },
   {
    "duration": 22,
    "start_time": "2022-07-13T15:50:12.032Z"
   },
   {
    "duration": 19,
    "start_time": "2022-07-13T15:50:28.665Z"
   },
   {
    "duration": 25,
    "start_time": "2022-07-13T15:55:19.904Z"
   },
   {
    "duration": 24,
    "start_time": "2022-07-13T15:56:34.095Z"
   },
   {
    "duration": 24,
    "start_time": "2022-07-13T15:57:00.137Z"
   },
   {
    "duration": 29,
    "start_time": "2022-07-13T15:58:59.367Z"
   },
   {
    "duration": 32,
    "start_time": "2022-07-13T16:06:18.721Z"
   },
   {
    "duration": 27,
    "start_time": "2022-07-13T16:10:11.622Z"
   },
   {
    "duration": 31,
    "start_time": "2022-07-13T16:20:00.246Z"
   },
   {
    "duration": 7,
    "start_time": "2022-07-13T16:21:48.499Z"
   },
   {
    "duration": 5,
    "start_time": "2022-07-13T16:21:59.654Z"
   },
   {
    "duration": 10,
    "start_time": "2022-07-13T16:22:36.288Z"
   },
   {
    "duration": 760,
    "start_time": "2022-07-13T16:23:22.280Z"
   },
   {
    "duration": 632,
    "start_time": "2022-07-13T16:23:55.414Z"
   },
   {
    "duration": 9,
    "start_time": "2022-07-13T16:24:22.367Z"
   },
   {
    "duration": 9,
    "start_time": "2022-07-13T16:24:47.594Z"
   },
   {
    "duration": 28,
    "start_time": "2022-07-13T16:27:12.772Z"
   },
   {
    "duration": 459,
    "start_time": "2022-07-13T16:28:16.621Z"
   },
   {
    "duration": 22,
    "start_time": "2022-07-13T16:28:17.082Z"
   },
   {
    "duration": 14,
    "start_time": "2022-07-13T16:28:17.105Z"
   },
   {
    "duration": 9,
    "start_time": "2022-07-13T16:28:17.124Z"
   },
   {
    "duration": 38,
    "start_time": "2022-07-13T16:28:17.134Z"
   },
   {
    "duration": 3,
    "start_time": "2022-07-13T16:28:17.174Z"
   },
   {
    "duration": 13,
    "start_time": "2022-07-13T16:28:17.178Z"
   },
   {
    "duration": 5,
    "start_time": "2022-07-13T16:28:17.193Z"
   },
   {
    "duration": 25,
    "start_time": "2022-07-13T16:28:17.199Z"
   },
   {
    "duration": 4,
    "start_time": "2022-07-13T16:28:17.227Z"
   },
   {
    "duration": 38,
    "start_time": "2022-07-13T16:28:17.233Z"
   },
   {
    "duration": 9,
    "start_time": "2022-07-13T16:28:17.273Z"
   },
   {
    "duration": 4,
    "start_time": "2022-07-13T16:28:17.284Z"
   },
   {
    "duration": 36,
    "start_time": "2022-07-13T16:28:17.290Z"
   },
   {
    "duration": 19,
    "start_time": "2022-07-13T16:28:17.328Z"
   },
   {
    "duration": 14,
    "start_time": "2022-07-13T16:28:17.349Z"
   },
   {
    "duration": 11,
    "start_time": "2022-07-13T16:28:17.365Z"
   },
   {
    "duration": 23,
    "start_time": "2022-07-13T16:28:17.378Z"
   },
   {
    "duration": 22,
    "start_time": "2022-07-13T16:28:17.403Z"
   },
   {
    "duration": 5,
    "start_time": "2022-07-13T16:28:17.426Z"
   },
   {
    "duration": 20,
    "start_time": "2022-07-13T16:28:17.432Z"
   },
   {
    "duration": 41,
    "start_time": "2022-07-13T16:28:17.454Z"
   },
   {
    "duration": 39,
    "start_time": "2022-07-13T16:28:17.498Z"
   },
   {
    "duration": 2,
    "start_time": "2022-07-13T16:28:17.540Z"
   },
   {
    "duration": 11,
    "start_time": "2022-07-13T16:28:17.544Z"
   },
   {
    "duration": 33,
    "start_time": "2022-07-13T16:29:34.108Z"
   },
   {
    "duration": 34,
    "start_time": "2022-07-13T16:32:31.069Z"
   },
   {
    "duration": 30,
    "start_time": "2022-07-13T16:36:24.924Z"
   },
   {
    "duration": 34,
    "start_time": "2022-07-13T16:36:32.720Z"
   },
   {
    "duration": 32,
    "start_time": "2022-07-13T16:36:52.285Z"
   },
   {
    "duration": 800,
    "start_time": "2022-07-14T05:15:12.285Z"
   },
   {
    "duration": 32,
    "start_time": "2022-07-14T05:15:13.087Z"
   },
   {
    "duration": 16,
    "start_time": "2022-07-14T05:15:13.121Z"
   },
   {
    "duration": 10,
    "start_time": "2022-07-14T05:15:13.139Z"
   },
   {
    "duration": 59,
    "start_time": "2022-07-14T05:15:13.151Z"
   },
   {
    "duration": 6,
    "start_time": "2022-07-14T05:15:13.212Z"
   },
   {
    "duration": 14,
    "start_time": "2022-07-14T05:15:13.221Z"
   },
   {
    "duration": 11,
    "start_time": "2022-07-14T05:15:13.237Z"
   },
   {
    "duration": 9,
    "start_time": "2022-07-14T05:15:13.250Z"
   },
   {
    "duration": 6,
    "start_time": "2022-07-14T05:15:13.262Z"
   },
   {
    "duration": 62,
    "start_time": "2022-07-14T05:15:13.269Z"
   },
   {
    "duration": 11,
    "start_time": "2022-07-14T05:15:13.332Z"
   },
   {
    "duration": 4,
    "start_time": "2022-07-14T05:15:13.345Z"
   },
   {
    "duration": 20,
    "start_time": "2022-07-14T05:15:13.351Z"
   },
   {
    "duration": 53,
    "start_time": "2022-07-14T05:15:13.374Z"
   },
   {
    "duration": 11,
    "start_time": "2022-07-14T05:15:13.429Z"
   },
   {
    "duration": 7,
    "start_time": "2022-07-14T05:15:13.441Z"
   },
   {
    "duration": 11,
    "start_time": "2022-07-14T05:15:13.450Z"
   },
   {
    "duration": 6,
    "start_time": "2022-07-14T05:15:13.463Z"
   },
   {
    "duration": 4,
    "start_time": "2022-07-14T05:15:13.470Z"
   },
   {
    "duration": 40,
    "start_time": "2022-07-14T05:15:13.475Z"
   },
   {
    "duration": 32,
    "start_time": "2022-07-14T05:15:13.517Z"
   },
   {
    "duration": 58,
    "start_time": "2022-07-14T05:15:13.551Z"
   },
   {
    "duration": 44,
    "start_time": "2022-07-14T05:15:13.611Z"
   },
   {
    "duration": 34,
    "start_time": "2022-07-14T05:15:13.657Z"
   },
   {
    "duration": 986,
    "start_time": "2022-07-14T05:18:47.197Z"
   },
   {
    "duration": 515,
    "start_time": "2022-07-14T05:19:05.395Z"
   },
   {
    "duration": 24,
    "start_time": "2022-07-14T05:19:05.912Z"
   },
   {
    "duration": 14,
    "start_time": "2022-07-14T05:19:05.938Z"
   },
   {
    "duration": 10,
    "start_time": "2022-07-14T05:19:05.954Z"
   },
   {
    "duration": 61,
    "start_time": "2022-07-14T05:19:05.965Z"
   },
   {
    "duration": 4,
    "start_time": "2022-07-14T05:19:06.027Z"
   },
   {
    "duration": 13,
    "start_time": "2022-07-14T05:19:06.032Z"
   },
   {
    "duration": 4,
    "start_time": "2022-07-14T05:19:06.047Z"
   },
   {
    "duration": 9,
    "start_time": "2022-07-14T05:19:06.053Z"
   },
   {
    "duration": 7,
    "start_time": "2022-07-14T05:19:06.065Z"
   },
   {
    "duration": 61,
    "start_time": "2022-07-14T05:19:06.074Z"
   },
   {
    "duration": 9,
    "start_time": "2022-07-14T05:19:06.137Z"
   },
   {
    "duration": 3,
    "start_time": "2022-07-14T05:19:06.148Z"
   },
   {
    "duration": 20,
    "start_time": "2022-07-14T05:19:06.153Z"
   },
   {
    "duration": 41,
    "start_time": "2022-07-14T05:19:06.175Z"
   },
   {
    "duration": 11,
    "start_time": "2022-07-14T05:19:06.218Z"
   },
   {
    "duration": 6,
    "start_time": "2022-07-14T05:19:06.231Z"
   },
   {
    "duration": 26,
    "start_time": "2022-07-14T05:19:06.238Z"
   },
   {
    "duration": 12,
    "start_time": "2022-07-14T05:19:06.266Z"
   },
   {
    "duration": 6,
    "start_time": "2022-07-14T05:19:06.279Z"
   },
   {
    "duration": 18,
    "start_time": "2022-07-14T05:19:06.287Z"
   },
   {
    "duration": 806,
    "start_time": "2022-07-14T05:19:06.307Z"
   },
   {
    "duration": 37,
    "start_time": "2022-07-14T05:19:07.115Z"
   },
   {
    "duration": 53,
    "start_time": "2022-07-14T05:19:07.154Z"
   },
   {
    "duration": 31,
    "start_time": "2022-07-14T05:19:07.210Z"
   },
   {
    "duration": 34,
    "start_time": "2022-07-14T05:19:07.243Z"
   },
   {
    "duration": 117,
    "start_time": "2022-07-14T05:27:12.691Z"
   },
   {
    "duration": 1260,
    "start_time": "2022-07-14T05:27:24.415Z"
   },
   {
    "duration": 1283,
    "start_time": "2022-07-14T05:27:38.530Z"
   },
   {
    "duration": 1386,
    "start_time": "2022-07-14T05:27:50.580Z"
   },
   {
    "duration": 13,
    "start_time": "2022-07-14T05:32:55.835Z"
   },
   {
    "duration": 11,
    "start_time": "2022-07-14T05:39:50.125Z"
   },
   {
    "duration": 2802,
    "start_time": "2022-07-14T05:40:02.492Z"
   },
   {
    "duration": 152,
    "start_time": "2022-07-14T05:40:23.699Z"
   },
   {
    "duration": 149,
    "start_time": "2022-07-14T05:40:48.953Z"
   },
   {
    "duration": 147,
    "start_time": "2022-07-14T05:41:30.502Z"
   },
   {
    "duration": 32,
    "start_time": "2022-07-14T05:45:31.975Z"
   },
   {
    "duration": 31,
    "start_time": "2022-07-14T05:47:52.383Z"
   },
   {
    "duration": 16,
    "start_time": "2022-07-14T05:48:40.491Z"
   },
   {
    "duration": 112,
    "start_time": "2022-07-14T05:49:06.502Z"
   },
   {
    "duration": 4,
    "start_time": "2022-07-14T05:50:31.966Z"
   },
   {
    "duration": 149,
    "start_time": "2022-07-14T05:50:59.163Z"
   },
   {
    "duration": 131,
    "start_time": "2022-07-14T05:52:32.927Z"
   },
   {
    "duration": 135,
    "start_time": "2022-07-14T05:55:25.726Z"
   },
   {
    "duration": 27,
    "start_time": "2022-07-14T05:55:42.856Z"
   },
   {
    "duration": 132,
    "start_time": "2022-07-14T05:56:10.818Z"
   },
   {
    "duration": 22,
    "start_time": "2022-07-14T05:56:44.504Z"
   },
   {
    "duration": 22,
    "start_time": "2022-07-14T05:56:49.912Z"
   },
   {
    "duration": 137,
    "start_time": "2022-07-14T05:56:56.406Z"
   },
   {
    "duration": 148,
    "start_time": "2022-07-14T06:03:12.393Z"
   },
   {
    "duration": 187,
    "start_time": "2022-07-14T06:06:43.834Z"
   },
   {
    "duration": 127,
    "start_time": "2022-07-14T06:07:22.609Z"
   },
   {
    "duration": 155,
    "start_time": "2022-07-14T06:07:39.969Z"
   },
   {
    "duration": 56,
    "start_time": "2022-07-14T08:00:47.639Z"
   },
   {
    "duration": 1127,
    "start_time": "2022-07-14T08:01:12.737Z"
   },
   {
    "duration": 22,
    "start_time": "2022-07-14T08:01:13.866Z"
   },
   {
    "duration": 16,
    "start_time": "2022-07-14T08:01:13.890Z"
   },
   {
    "duration": 10,
    "start_time": "2022-07-14T08:01:13.908Z"
   },
   {
    "duration": 64,
    "start_time": "2022-07-14T08:01:13.920Z"
   },
   {
    "duration": 4,
    "start_time": "2022-07-14T08:01:13.985Z"
   },
   {
    "duration": 28,
    "start_time": "2022-07-14T08:01:13.990Z"
   },
   {
    "duration": 9,
    "start_time": "2022-07-14T08:01:14.019Z"
   },
   {
    "duration": 31,
    "start_time": "2022-07-14T08:01:14.030Z"
   },
   {
    "duration": 11,
    "start_time": "2022-07-14T08:01:14.063Z"
   },
   {
    "duration": 68,
    "start_time": "2022-07-14T08:01:14.075Z"
   },
   {
    "duration": 15,
    "start_time": "2022-07-14T08:01:14.145Z"
   },
   {
    "duration": 16,
    "start_time": "2022-07-14T08:01:14.161Z"
   },
   {
    "duration": 32,
    "start_time": "2022-07-14T08:01:14.180Z"
   },
   {
    "duration": 25,
    "start_time": "2022-07-14T08:01:14.214Z"
   },
   {
    "duration": 24,
    "start_time": "2022-07-14T08:01:14.240Z"
   },
   {
    "duration": 23,
    "start_time": "2022-07-14T08:01:14.266Z"
   },
   {
    "duration": 35,
    "start_time": "2022-07-14T08:01:14.291Z"
   },
   {
    "duration": 30,
    "start_time": "2022-07-14T08:01:14.329Z"
   },
   {
    "duration": 26,
    "start_time": "2022-07-14T08:01:14.361Z"
   },
   {
    "duration": 38,
    "start_time": "2022-07-14T08:01:14.390Z"
   },
   {
    "duration": 951,
    "start_time": "2022-07-14T08:01:14.431Z"
   },
   {
    "duration": 37,
    "start_time": "2022-07-14T08:01:15.384Z"
   },
   {
    "duration": 190,
    "start_time": "2022-07-14T08:01:15.424Z"
   },
   {
    "duration": 47,
    "start_time": "2022-07-14T08:01:15.616Z"
   },
   {
    "duration": 165,
    "start_time": "2022-07-14T08:01:15.665Z"
   },
   {
    "duration": 43,
    "start_time": "2022-07-14T08:01:15.832Z"
   },
   {
    "duration": 40,
    "start_time": "2022-07-14T08:01:15.876Z"
   },
   {
    "duration": 156,
    "start_time": "2022-07-14T08:02:30.584Z"
   },
   {
    "duration": 39,
    "start_time": "2022-07-14T08:03:20.552Z"
   },
   {
    "duration": 138,
    "start_time": "2022-07-14T08:03:53.035Z"
   },
   {
    "duration": 131,
    "start_time": "2022-07-14T08:19:15.100Z"
   },
   {
    "duration": 44,
    "start_time": "2022-07-14T09:24:42.138Z"
   },
   {
    "duration": 63,
    "start_time": "2022-07-14T09:25:12.302Z"
   },
   {
    "duration": 63,
    "start_time": "2022-07-14T09:26:02.131Z"
   },
   {
    "duration": 105,
    "start_time": "2022-07-14T09:27:35.356Z"
   },
   {
    "duration": 51,
    "start_time": "2022-07-14T09:27:49.761Z"
   },
   {
    "duration": 50,
    "start_time": "2022-07-14T09:28:36.098Z"
   },
   {
    "duration": 1203,
    "start_time": "2022-07-14T09:33:44.693Z"
   },
   {
    "duration": 6,
    "start_time": "2022-07-14T09:34:18.681Z"
   },
   {
    "duration": 8,
    "start_time": "2022-07-14T09:34:28.464Z"
   },
   {
    "duration": 6,
    "start_time": "2022-07-14T09:42:12.642Z"
   },
   {
    "duration": 7,
    "start_time": "2022-07-14T09:43:10.629Z"
   },
   {
    "duration": 6,
    "start_time": "2022-07-14T09:43:31.723Z"
   },
   {
    "duration": 73,
    "start_time": "2022-07-14T09:48:25.698Z"
   },
   {
    "duration": 66,
    "start_time": "2022-07-14T09:48:50.842Z"
   },
   {
    "duration": 66,
    "start_time": "2022-07-14T09:50:15.487Z"
   },
   {
    "duration": 64,
    "start_time": "2022-07-14T09:50:25.201Z"
   },
   {
    "duration": 75,
    "start_time": "2022-07-14T09:52:04.243Z"
   },
   {
    "duration": 75,
    "start_time": "2022-07-14T09:53:40.146Z"
   },
   {
    "duration": 51,
    "start_time": "2022-07-14T09:54:07.389Z"
   },
   {
    "duration": 62,
    "start_time": "2022-07-14T09:54:24.950Z"
   },
   {
    "duration": 55,
    "start_time": "2022-07-14T09:55:20.587Z"
   },
   {
    "duration": 67,
    "start_time": "2022-07-14T09:57:53.853Z"
   },
   {
    "duration": 37,
    "start_time": "2022-07-14T10:05:59.644Z"
   },
   {
    "duration": 150,
    "start_time": "2022-07-14T10:06:00.376Z"
   },
   {
    "duration": 36,
    "start_time": "2022-07-14T10:06:37.007Z"
   },
   {
    "duration": 114,
    "start_time": "2022-07-14T10:06:43.396Z"
   },
   {
    "duration": 56,
    "start_time": "2022-07-14T10:09:30.175Z"
   },
   {
    "duration": 62,
    "start_time": "2022-07-14T10:10:21.533Z"
   },
   {
    "duration": 67,
    "start_time": "2022-07-14T10:12:01.227Z"
   },
   {
    "duration": 157,
    "start_time": "2022-07-14T10:12:08.698Z"
   },
   {
    "duration": 75,
    "start_time": "2022-07-14T10:13:05.081Z"
   },
   {
    "duration": 59,
    "start_time": "2022-07-14T10:14:55.249Z"
   },
   {
    "duration": 56,
    "start_time": "2022-07-14T10:15:01.778Z"
   },
   {
    "duration": 47,
    "start_time": "2022-07-14T10:15:19.124Z"
   },
   {
    "duration": 11,
    "start_time": "2022-07-14T10:25:53.481Z"
   },
   {
    "duration": 5,
    "start_time": "2022-07-14T10:26:10.095Z"
   },
   {
    "duration": 6,
    "start_time": "2022-07-14T10:26:21.598Z"
   },
   {
    "duration": 98,
    "start_time": "2022-07-14T10:34:48.757Z"
   },
   {
    "duration": 11,
    "start_time": "2022-07-14T10:35:16.302Z"
   },
   {
    "duration": 84,
    "start_time": "2022-07-14T10:35:29.059Z"
   },
   {
    "duration": 68,
    "start_time": "2022-07-14T10:35:57.906Z"
   },
   {
    "duration": 125,
    "start_time": "2022-07-14T10:38:12.406Z"
   },
   {
    "duration": 67,
    "start_time": "2022-07-14T10:38:29.674Z"
   },
   {
    "duration": 57,
    "start_time": "2022-07-14T10:39:04.120Z"
   },
   {
    "duration": 131,
    "start_time": "2022-07-14T10:46:19.500Z"
   },
   {
    "duration": 109,
    "start_time": "2022-07-14T10:46:47.139Z"
   },
   {
    "duration": 119,
    "start_time": "2022-07-14T10:47:02.903Z"
   },
   {
    "duration": 178,
    "start_time": "2022-07-14T10:47:25.153Z"
   },
   {
    "duration": 129,
    "start_time": "2022-07-14T10:48:01.680Z"
   },
   {
    "duration": 474,
    "start_time": "2022-07-14T10:48:28.873Z"
   },
   {
    "duration": 29,
    "start_time": "2022-07-14T10:48:29.349Z"
   },
   {
    "duration": 14,
    "start_time": "2022-07-14T10:48:29.380Z"
   },
   {
    "duration": 9,
    "start_time": "2022-07-14T10:48:29.396Z"
   },
   {
    "duration": 54,
    "start_time": "2022-07-14T10:48:29.407Z"
   },
   {
    "duration": 5,
    "start_time": "2022-07-14T10:48:29.464Z"
   },
   {
    "duration": 17,
    "start_time": "2022-07-14T10:48:29.471Z"
   },
   {
    "duration": 7,
    "start_time": "2022-07-14T10:48:29.489Z"
   },
   {
    "duration": 33,
    "start_time": "2022-07-14T10:48:29.508Z"
   },
   {
    "duration": 13,
    "start_time": "2022-07-14T10:48:29.543Z"
   },
   {
    "duration": 76,
    "start_time": "2022-07-14T10:48:29.558Z"
   },
   {
    "duration": 16,
    "start_time": "2022-07-14T10:48:29.636Z"
   },
   {
    "duration": 33,
    "start_time": "2022-07-14T10:48:29.654Z"
   },
   {
    "duration": 33,
    "start_time": "2022-07-14T10:48:29.692Z"
   },
   {
    "duration": 18,
    "start_time": "2022-07-14T10:48:29.727Z"
   },
   {
    "duration": 33,
    "start_time": "2022-07-14T10:48:29.749Z"
   },
   {
    "duration": 19,
    "start_time": "2022-07-14T10:48:29.783Z"
   },
   {
    "duration": 15,
    "start_time": "2022-07-14T10:48:29.803Z"
   },
   {
    "duration": 9,
    "start_time": "2022-07-14T10:48:29.820Z"
   },
   {
    "duration": 5,
    "start_time": "2022-07-14T10:48:29.831Z"
   },
   {
    "duration": 14,
    "start_time": "2022-07-14T10:48:29.837Z"
   },
   {
    "duration": 763,
    "start_time": "2022-07-14T10:48:29.853Z"
   },
   {
    "duration": 33,
    "start_time": "2022-07-14T10:48:30.618Z"
   },
   {
    "duration": 160,
    "start_time": "2022-07-14T10:48:30.652Z"
   },
   {
    "duration": 32,
    "start_time": "2022-07-14T10:48:30.814Z"
   },
   {
    "duration": 149,
    "start_time": "2022-07-14T10:48:30.847Z"
   },
   {
    "duration": 28,
    "start_time": "2022-07-14T10:48:30.997Z"
   },
   {
    "duration": 134,
    "start_time": "2022-07-14T10:48:31.027Z"
   },
   {
    "duration": 36,
    "start_time": "2022-07-14T10:48:31.164Z"
   },
   {
    "duration": 137,
    "start_time": "2022-07-14T10:48:31.201Z"
   },
   {
    "duration": 62,
    "start_time": "2022-07-14T10:48:31.340Z"
   },
   {
    "duration": 5,
    "start_time": "2022-07-14T10:48:31.404Z"
   }
  ],
  "colab": {
   "name": "dpp_template_part2.ipynb",
   "provenance": []
  },
  "kernelspec": {
   "display_name": "Python 3 (ipykernel)",
   "language": "python",
   "name": "python3"
  },
  "language_info": {
   "codemirror_mode": {
    "name": "ipython",
    "version": 3
   },
   "file_extension": ".py",
   "mimetype": "text/x-python",
   "name": "python",
   "nbconvert_exporter": "python",
   "pygments_lexer": "ipython3",
   "version": "3.9.12"
  },
  "toc": {
   "base_numbering": 1,
   "nav_menu": {},
   "number_sections": true,
   "sideBar": true,
   "skip_h1_title": true,
   "title_cell": "Table of Contents",
   "title_sidebar": "Contents",
   "toc_cell": false,
   "toc_position": {},
   "toc_section_display": true,
   "toc_window_display": false
  }
 },
 "nbformat": 4,
 "nbformat_minor": 5
}
